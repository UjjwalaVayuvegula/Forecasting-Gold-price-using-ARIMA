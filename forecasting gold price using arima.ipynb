{
 "cells": [
  {
   "cell_type": "code",
   "execution_count": 1,
   "metadata": {},
   "outputs": [],
   "source": [
    "import pandas as pd\n",
    "import numpy as np\n",
    "import matplotlib.pyplot as plt\n",
    "import statsmodels.api as sm\n",
    "import seaborn as sns"
   ]
  },
  {
   "cell_type": "code",
   "execution_count": 2,
   "metadata": {},
   "outputs": [],
   "source": [
    "data=pd.read_csv(\"C:\\\\Users\\\\ushak\\\\Desktop\\\\ujjwala\\\\Book 18.csv\")"
   ]
  },
  {
   "cell_type": "code",
   "execution_count": 3,
   "metadata": {},
   "outputs": [],
   "source": [
    "data=pd.DataFrame(data)"
   ]
  },
  {
   "cell_type": "code",
   "execution_count": 4,
   "metadata": {},
   "outputs": [],
   "source": [
    "data=data.drop(['Prices.1','Prices.2'],axis=1)"
   ]
  },
  {
   "cell_type": "code",
   "execution_count": 5,
   "metadata": {},
   "outputs": [
    {
     "data": {
      "text/plain": [
       "(1229, 2)"
      ]
     },
     "execution_count": 5,
     "metadata": {},
     "output_type": "execute_result"
    }
   ],
   "source": [
    "data.shape"
   ]
  },
  {
   "cell_type": "code",
   "execution_count": 6,
   "metadata": {},
   "outputs": [
    {
     "data": {
      "text/html": [
       "<div>\n",
       "<style scoped>\n",
       "    .dataframe tbody tr th:only-of-type {\n",
       "        vertical-align: middle;\n",
       "    }\n",
       "\n",
       "    .dataframe tbody tr th {\n",
       "        vertical-align: top;\n",
       "    }\n",
       "\n",
       "    .dataframe thead th {\n",
       "        text-align: right;\n",
       "    }\n",
       "</style>\n",
       "<table border=\"1\" class=\"dataframe\">\n",
       "  <thead>\n",
       "    <tr style=\"text-align: right;\">\n",
       "      <th></th>\n",
       "      <th>Date</th>\n",
       "      <th>Prices</th>\n",
       "    </tr>\n",
       "  </thead>\n",
       "  <tbody>\n",
       "    <tr>\n",
       "      <th>0</th>\n",
       "      <td>13-04-2022</td>\n",
       "      <td>52700.0</td>\n",
       "    </tr>\n",
       "    <tr>\n",
       "      <th>1</th>\n",
       "      <td>12-04-2022</td>\n",
       "      <td>52562.5</td>\n",
       "    </tr>\n",
       "    <tr>\n",
       "      <th>2</th>\n",
       "      <td>11-04-2022</td>\n",
       "      <td>52500.0</td>\n",
       "    </tr>\n",
       "    <tr>\n",
       "      <th>3</th>\n",
       "      <td>08-04-2022</td>\n",
       "      <td>52212.5</td>\n",
       "    </tr>\n",
       "    <tr>\n",
       "      <th>4</th>\n",
       "      <td>07-04-2022</td>\n",
       "      <td>51987.5</td>\n",
       "    </tr>\n",
       "  </tbody>\n",
       "</table>\n",
       "</div>"
      ],
      "text/plain": [
       "         Date   Prices\n",
       "0  13-04-2022  52700.0\n",
       "1  12-04-2022  52562.5\n",
       "2  11-04-2022  52500.0\n",
       "3  08-04-2022  52212.5\n",
       "4  07-04-2022  51987.5"
      ]
     },
     "execution_count": 6,
     "metadata": {},
     "output_type": "execute_result"
    }
   ],
   "source": [
    "data.head()"
   ]
  },
  {
   "cell_type": "code",
   "execution_count": 7,
   "metadata": {},
   "outputs": [
    {
     "name": "stdout",
     "output_type": "stream",
     "text": [
      "<class 'pandas.core.frame.DataFrame'>\n",
      "RangeIndex: 1229 entries, 0 to 1228\n",
      "Data columns (total 2 columns):\n",
      " #   Column  Non-Null Count  Dtype  \n",
      "---  ------  --------------  -----  \n",
      " 0   Date    1229 non-null   object \n",
      " 1   Prices  1229 non-null   float64\n",
      "dtypes: float64(1), object(1)\n",
      "memory usage: 19.3+ KB\n"
     ]
    }
   ],
   "source": [
    "data.info()"
   ]
  },
  {
   "cell_type": "code",
   "execution_count": 8,
   "metadata": {},
   "outputs": [
    {
     "data": {
      "text/plain": [
       "Date       object\n",
       "Prices    float64\n",
       "dtype: object"
      ]
     },
     "execution_count": 8,
     "metadata": {},
     "output_type": "execute_result"
    }
   ],
   "source": [
    "data.dtypes"
   ]
  },
  {
   "cell_type": "code",
   "execution_count": 9,
   "metadata": {},
   "outputs": [],
   "source": [
    "data['Date']=pd.to_datetime(data['Date'],format='%d-%m-%Y')"
   ]
  },
  {
   "cell_type": "code",
   "execution_count": 10,
   "metadata": {},
   "outputs": [
    {
     "name": "stderr",
     "output_type": "stream",
     "text": [
      "C:\\Users\\ushak\\programming\\New folder\\lib\\site-packages\\ipykernel_launcher.py:1: FutureWarning: Treating datetime data as categorical rather than numeric in `.describe` is deprecated and will be removed in a future version of pandas. Specify `datetime_is_numeric=True` to silence this warning and adopt the future behavior now.\n",
      "  \"\"\"Entry point for launching an IPython kernel.\n"
     ]
    },
    {
     "data": {
      "text/html": [
       "<div>\n",
       "<style scoped>\n",
       "    .dataframe tbody tr th:only-of-type {\n",
       "        vertical-align: middle;\n",
       "    }\n",
       "\n",
       "    .dataframe tbody tr th {\n",
       "        vertical-align: top;\n",
       "    }\n",
       "\n",
       "    .dataframe thead th {\n",
       "        text-align: right;\n",
       "    }\n",
       "</style>\n",
       "<table border=\"1\" class=\"dataframe\">\n",
       "  <thead>\n",
       "    <tr style=\"text-align: right;\">\n",
       "      <th></th>\n",
       "      <th>Date</th>\n",
       "      <th>Prices</th>\n",
       "    </tr>\n",
       "  </thead>\n",
       "  <tbody>\n",
       "    <tr>\n",
       "      <th>count</th>\n",
       "      <td>1229</td>\n",
       "      <td>1229.000000</td>\n",
       "    </tr>\n",
       "    <tr>\n",
       "      <th>unique</th>\n",
       "      <td>1229</td>\n",
       "      <td>NaN</td>\n",
       "    </tr>\n",
       "    <tr>\n",
       "      <th>top</th>\n",
       "      <td>2017-10-30 00:00:00</td>\n",
       "      <td>NaN</td>\n",
       "    </tr>\n",
       "    <tr>\n",
       "      <th>freq</th>\n",
       "      <td>1</td>\n",
       "      <td>NaN</td>\n",
       "    </tr>\n",
       "    <tr>\n",
       "      <th>first</th>\n",
       "      <td>2017-01-02 00:00:00</td>\n",
       "      <td>NaN</td>\n",
       "    </tr>\n",
       "    <tr>\n",
       "      <th>last</th>\n",
       "      <td>2022-04-13 00:00:00</td>\n",
       "      <td>NaN</td>\n",
       "    </tr>\n",
       "    <tr>\n",
       "      <th>mean</th>\n",
       "      <td>NaN</td>\n",
       "      <td>37832.173230</td>\n",
       "    </tr>\n",
       "    <tr>\n",
       "      <th>std</th>\n",
       "      <td>NaN</td>\n",
       "      <td>9393.835797</td>\n",
       "    </tr>\n",
       "    <tr>\n",
       "      <th>min</th>\n",
       "      <td>NaN</td>\n",
       "      <td>26630.000000</td>\n",
       "    </tr>\n",
       "    <tr>\n",
       "      <th>25%</th>\n",
       "      <td>NaN</td>\n",
       "      <td>29201.000000</td>\n",
       "    </tr>\n",
       "    <tr>\n",
       "      <th>50%</th>\n",
       "      <td>NaN</td>\n",
       "      <td>34064.500000</td>\n",
       "    </tr>\n",
       "    <tr>\n",
       "      <th>75%</th>\n",
       "      <td>NaN</td>\n",
       "      <td>48482.500000</td>\n",
       "    </tr>\n",
       "    <tr>\n",
       "      <th>max</th>\n",
       "      <td>NaN</td>\n",
       "      <td>55950.000000</td>\n",
       "    </tr>\n",
       "  </tbody>\n",
       "</table>\n",
       "</div>"
      ],
      "text/plain": [
       "                       Date        Prices\n",
       "count                  1229   1229.000000\n",
       "unique                 1229           NaN\n",
       "top     2017-10-30 00:00:00           NaN\n",
       "freq                      1           NaN\n",
       "first   2017-01-02 00:00:00           NaN\n",
       "last    2022-04-13 00:00:00           NaN\n",
       "mean                    NaN  37832.173230\n",
       "std                     NaN   9393.835797\n",
       "min                     NaN  26630.000000\n",
       "25%                     NaN  29201.000000\n",
       "50%                     NaN  34064.500000\n",
       "75%                     NaN  48482.500000\n",
       "max                     NaN  55950.000000"
      ]
     },
     "execution_count": 10,
     "metadata": {},
     "output_type": "execute_result"
    }
   ],
   "source": [
    "data.describe(include='all')"
   ]
  },
  {
   "cell_type": "code",
   "execution_count": 11,
   "metadata": {},
   "outputs": [],
   "source": [
    "data=data.sort_values('Date',ascending=True)"
   ]
  },
  {
   "cell_type": "code",
   "execution_count": 12,
   "metadata": {},
   "outputs": [
    {
     "data": {
      "text/html": [
       "<div>\n",
       "<style scoped>\n",
       "    .dataframe tbody tr th:only-of-type {\n",
       "        vertical-align: middle;\n",
       "    }\n",
       "\n",
       "    .dataframe tbody tr th {\n",
       "        vertical-align: top;\n",
       "    }\n",
       "\n",
       "    .dataframe thead th {\n",
       "        text-align: right;\n",
       "    }\n",
       "</style>\n",
       "<table border=\"1\" class=\"dataframe\">\n",
       "  <thead>\n",
       "    <tr style=\"text-align: right;\">\n",
       "      <th></th>\n",
       "      <th>Date</th>\n",
       "      <th>Prices</th>\n",
       "    </tr>\n",
       "  </thead>\n",
       "  <tbody>\n",
       "    <tr>\n",
       "      <th>1228</th>\n",
       "      <td>2017-01-02</td>\n",
       "      <td>27918.5</td>\n",
       "    </tr>\n",
       "    <tr>\n",
       "      <th>1227</th>\n",
       "      <td>2017-01-03</td>\n",
       "      <td>26676.0</td>\n",
       "    </tr>\n",
       "    <tr>\n",
       "      <th>1226</th>\n",
       "      <td>2017-01-04</td>\n",
       "      <td>27091.9</td>\n",
       "    </tr>\n",
       "    <tr>\n",
       "      <th>1225</th>\n",
       "      <td>2017-01-05</td>\n",
       "      <td>27078.6</td>\n",
       "    </tr>\n",
       "    <tr>\n",
       "      <th>1224</th>\n",
       "      <td>2017-01-06</td>\n",
       "      <td>27246.4</td>\n",
       "    </tr>\n",
       "    <tr>\n",
       "      <th>1223</th>\n",
       "      <td>2017-01-09</td>\n",
       "      <td>27311.2</td>\n",
       "    </tr>\n",
       "    <tr>\n",
       "      <th>1222</th>\n",
       "      <td>2017-01-10</td>\n",
       "      <td>27441.5</td>\n",
       "    </tr>\n",
       "    <tr>\n",
       "      <th>1221</th>\n",
       "      <td>2017-01-11</td>\n",
       "      <td>27599.0</td>\n",
       "    </tr>\n",
       "    <tr>\n",
       "      <th>1220</th>\n",
       "      <td>2017-01-12</td>\n",
       "      <td>27877.6</td>\n",
       "    </tr>\n",
       "    <tr>\n",
       "      <th>1219</th>\n",
       "      <td>2017-01-13</td>\n",
       "      <td>27795.3</td>\n",
       "    </tr>\n",
       "  </tbody>\n",
       "</table>\n",
       "</div>"
      ],
      "text/plain": [
       "           Date   Prices\n",
       "1228 2017-01-02  27918.5\n",
       "1227 2017-01-03  26676.0\n",
       "1226 2017-01-04  27091.9\n",
       "1225 2017-01-05  27078.6\n",
       "1224 2017-01-06  27246.4\n",
       "1223 2017-01-09  27311.2\n",
       "1222 2017-01-10  27441.5\n",
       "1221 2017-01-11  27599.0\n",
       "1220 2017-01-12  27877.6\n",
       "1219 2017-01-13  27795.3"
      ]
     },
     "execution_count": 12,
     "metadata": {},
     "output_type": "execute_result"
    }
   ],
   "source": [
    "data.head(10)"
   ]
  },
  {
   "cell_type": "code",
   "execution_count": 13,
   "metadata": {},
   "outputs": [
    {
     "data": {
      "text/html": [
       "<div>\n",
       "<style scoped>\n",
       "    .dataframe tbody tr th:only-of-type {\n",
       "        vertical-align: middle;\n",
       "    }\n",
       "\n",
       "    .dataframe tbody tr th {\n",
       "        vertical-align: top;\n",
       "    }\n",
       "\n",
       "    .dataframe thead th {\n",
       "        text-align: right;\n",
       "    }\n",
       "</style>\n",
       "<table border=\"1\" class=\"dataframe\">\n",
       "  <thead>\n",
       "    <tr style=\"text-align: right;\">\n",
       "      <th></th>\n",
       "      <th>Date</th>\n",
       "      <th>Prices</th>\n",
       "    </tr>\n",
       "  </thead>\n",
       "  <tbody>\n",
       "    <tr>\n",
       "      <th>9</th>\n",
       "      <td>2022-03-31</td>\n",
       "      <td>51687.5</td>\n",
       "    </tr>\n",
       "    <tr>\n",
       "      <th>8</th>\n",
       "      <td>2022-04-01</td>\n",
       "      <td>51520.0</td>\n",
       "    </tr>\n",
       "    <tr>\n",
       "      <th>7</th>\n",
       "      <td>2022-04-04</td>\n",
       "      <td>51905.0</td>\n",
       "    </tr>\n",
       "    <tr>\n",
       "      <th>6</th>\n",
       "      <td>2022-04-05</td>\n",
       "      <td>51750.0</td>\n",
       "    </tr>\n",
       "    <tr>\n",
       "      <th>5</th>\n",
       "      <td>2022-04-06</td>\n",
       "      <td>51912.5</td>\n",
       "    </tr>\n",
       "    <tr>\n",
       "      <th>4</th>\n",
       "      <td>2022-04-07</td>\n",
       "      <td>51987.5</td>\n",
       "    </tr>\n",
       "    <tr>\n",
       "      <th>3</th>\n",
       "      <td>2022-04-08</td>\n",
       "      <td>52212.5</td>\n",
       "    </tr>\n",
       "    <tr>\n",
       "      <th>2</th>\n",
       "      <td>2022-04-11</td>\n",
       "      <td>52500.0</td>\n",
       "    </tr>\n",
       "    <tr>\n",
       "      <th>1</th>\n",
       "      <td>2022-04-12</td>\n",
       "      <td>52562.5</td>\n",
       "    </tr>\n",
       "    <tr>\n",
       "      <th>0</th>\n",
       "      <td>2022-04-13</td>\n",
       "      <td>52700.0</td>\n",
       "    </tr>\n",
       "  </tbody>\n",
       "</table>\n",
       "</div>"
      ],
      "text/plain": [
       "        Date   Prices\n",
       "9 2022-03-31  51687.5\n",
       "8 2022-04-01  51520.0\n",
       "7 2022-04-04  51905.0\n",
       "6 2022-04-05  51750.0\n",
       "5 2022-04-06  51912.5\n",
       "4 2022-04-07  51987.5\n",
       "3 2022-04-08  52212.5\n",
       "2 2022-04-11  52500.0\n",
       "1 2022-04-12  52562.5\n",
       "0 2022-04-13  52700.0"
      ]
     },
     "execution_count": 13,
     "metadata": {},
     "output_type": "execute_result"
    }
   ],
   "source": [
    "data.tail(10)"
   ]
  },
  {
   "cell_type": "code",
   "execution_count": 14,
   "metadata": {},
   "outputs": [
    {
     "name": "stdout",
     "output_type": "stream",
     "text": [
      "2017-01-02 00:00:00\n",
      "2022-04-13 00:00:00\n"
     ]
    }
   ],
   "source": [
    "mindate=min(data.Date)\n",
    "maxdate=max(data.Date)\n",
    "print(mindate)\n",
    "print(maxdate)"
   ]
  },
  {
   "cell_type": "markdown",
   "metadata": {},
   "source": [
    "# filling missing dates"
   ]
  },
  {
   "cell_type": "code",
   "execution_count": 15,
   "metadata": {},
   "outputs": [],
   "source": [
    "seq=pd.DataFrame(pd.date_range(mindate,maxdate))"
   ]
  },
  {
   "cell_type": "code",
   "execution_count": 16,
   "metadata": {},
   "outputs": [
    {
     "data": {
      "text/html": [
       "<div>\n",
       "<style scoped>\n",
       "    .dataframe tbody tr th:only-of-type {\n",
       "        vertical-align: middle;\n",
       "    }\n",
       "\n",
       "    .dataframe tbody tr th {\n",
       "        vertical-align: top;\n",
       "    }\n",
       "\n",
       "    .dataframe thead th {\n",
       "        text-align: right;\n",
       "    }\n",
       "</style>\n",
       "<table border=\"1\" class=\"dataframe\">\n",
       "  <thead>\n",
       "    <tr style=\"text-align: right;\">\n",
       "      <th></th>\n",
       "      <th>0</th>\n",
       "    </tr>\n",
       "  </thead>\n",
       "  <tbody>\n",
       "    <tr>\n",
       "      <th>0</th>\n",
       "      <td>2017-01-02</td>\n",
       "    </tr>\n",
       "    <tr>\n",
       "      <th>1</th>\n",
       "      <td>2017-01-03</td>\n",
       "    </tr>\n",
       "    <tr>\n",
       "      <th>2</th>\n",
       "      <td>2017-01-04</td>\n",
       "    </tr>\n",
       "    <tr>\n",
       "      <th>3</th>\n",
       "      <td>2017-01-05</td>\n",
       "    </tr>\n",
       "    <tr>\n",
       "      <th>4</th>\n",
       "      <td>2017-01-06</td>\n",
       "    </tr>\n",
       "    <tr>\n",
       "      <th>5</th>\n",
       "      <td>2017-01-07</td>\n",
       "    </tr>\n",
       "    <tr>\n",
       "      <th>6</th>\n",
       "      <td>2017-01-08</td>\n",
       "    </tr>\n",
       "    <tr>\n",
       "      <th>7</th>\n",
       "      <td>2017-01-09</td>\n",
       "    </tr>\n",
       "    <tr>\n",
       "      <th>8</th>\n",
       "      <td>2017-01-10</td>\n",
       "    </tr>\n",
       "    <tr>\n",
       "      <th>9</th>\n",
       "      <td>2017-01-11</td>\n",
       "    </tr>\n",
       "  </tbody>\n",
       "</table>\n",
       "</div>"
      ],
      "text/plain": [
       "           0\n",
       "0 2017-01-02\n",
       "1 2017-01-03\n",
       "2 2017-01-04\n",
       "3 2017-01-05\n",
       "4 2017-01-06\n",
       "5 2017-01-07\n",
       "6 2017-01-08\n",
       "7 2017-01-09\n",
       "8 2017-01-10\n",
       "9 2017-01-11"
      ]
     },
     "execution_count": 16,
     "metadata": {},
     "output_type": "execute_result"
    }
   ],
   "source": [
    "seq.head(10)"
   ]
  },
  {
   "cell_type": "code",
   "execution_count": 17,
   "metadata": {},
   "outputs": [
    {
     "data": {
      "text/html": [
       "<div>\n",
       "<style scoped>\n",
       "    .dataframe tbody tr th:only-of-type {\n",
       "        vertical-align: middle;\n",
       "    }\n",
       "\n",
       "    .dataframe tbody tr th {\n",
       "        vertical-align: top;\n",
       "    }\n",
       "\n",
       "    .dataframe thead th {\n",
       "        text-align: right;\n",
       "    }\n",
       "</style>\n",
       "<table border=\"1\" class=\"dataframe\">\n",
       "  <thead>\n",
       "    <tr style=\"text-align: right;\">\n",
       "      <th></th>\n",
       "      <th>0</th>\n",
       "    </tr>\n",
       "  </thead>\n",
       "  <tbody>\n",
       "    <tr>\n",
       "      <th>1918</th>\n",
       "      <td>2022-04-04</td>\n",
       "    </tr>\n",
       "    <tr>\n",
       "      <th>1919</th>\n",
       "      <td>2022-04-05</td>\n",
       "    </tr>\n",
       "    <tr>\n",
       "      <th>1920</th>\n",
       "      <td>2022-04-06</td>\n",
       "    </tr>\n",
       "    <tr>\n",
       "      <th>1921</th>\n",
       "      <td>2022-04-07</td>\n",
       "    </tr>\n",
       "    <tr>\n",
       "      <th>1922</th>\n",
       "      <td>2022-04-08</td>\n",
       "    </tr>\n",
       "    <tr>\n",
       "      <th>1923</th>\n",
       "      <td>2022-04-09</td>\n",
       "    </tr>\n",
       "    <tr>\n",
       "      <th>1924</th>\n",
       "      <td>2022-04-10</td>\n",
       "    </tr>\n",
       "    <tr>\n",
       "      <th>1925</th>\n",
       "      <td>2022-04-11</td>\n",
       "    </tr>\n",
       "    <tr>\n",
       "      <th>1926</th>\n",
       "      <td>2022-04-12</td>\n",
       "    </tr>\n",
       "    <tr>\n",
       "      <th>1927</th>\n",
       "      <td>2022-04-13</td>\n",
       "    </tr>\n",
       "  </tbody>\n",
       "</table>\n",
       "</div>"
      ],
      "text/plain": [
       "              0\n",
       "1918 2022-04-04\n",
       "1919 2022-04-05\n",
       "1920 2022-04-06\n",
       "1921 2022-04-07\n",
       "1922 2022-04-08\n",
       "1923 2022-04-09\n",
       "1924 2022-04-10\n",
       "1925 2022-04-11\n",
       "1926 2022-04-12\n",
       "1927 2022-04-13"
      ]
     },
     "execution_count": 17,
     "metadata": {},
     "output_type": "execute_result"
    }
   ],
   "source": [
    "seq.tail(10)"
   ]
  },
  {
   "cell_type": "code",
   "execution_count": 18,
   "metadata": {},
   "outputs": [],
   "source": [
    "seq.columns=['date']"
   ]
  },
  {
   "cell_type": "code",
   "execution_count": 19,
   "metadata": {},
   "outputs": [
    {
     "data": {
      "text/plain": [
       "Index(['Date', 'Prices'], dtype='object')"
      ]
     },
     "execution_count": 19,
     "metadata": {},
     "output_type": "execute_result"
    }
   ],
   "source": [
    "data.columns"
   ]
  },
  {
   "cell_type": "code",
   "execution_count": 20,
   "metadata": {},
   "outputs": [],
   "source": [
    "data.all=pd.merge(seq,data,how='outer',left_on=['date'],right_on=['Date'],sort=True)"
   ]
  },
  {
   "cell_type": "code",
   "execution_count": 21,
   "metadata": {},
   "outputs": [
    {
     "data": {
      "text/html": [
       "<div>\n",
       "<style scoped>\n",
       "    .dataframe tbody tr th:only-of-type {\n",
       "        vertical-align: middle;\n",
       "    }\n",
       "\n",
       "    .dataframe tbody tr th {\n",
       "        vertical-align: top;\n",
       "    }\n",
       "\n",
       "    .dataframe thead th {\n",
       "        text-align: right;\n",
       "    }\n",
       "</style>\n",
       "<table border=\"1\" class=\"dataframe\">\n",
       "  <thead>\n",
       "    <tr style=\"text-align: right;\">\n",
       "      <th></th>\n",
       "      <th>date</th>\n",
       "      <th>Date</th>\n",
       "      <th>Prices</th>\n",
       "    </tr>\n",
       "  </thead>\n",
       "  <tbody>\n",
       "    <tr>\n",
       "      <th>0</th>\n",
       "      <td>2017-01-02</td>\n",
       "      <td>2017-01-02</td>\n",
       "      <td>27918.5</td>\n",
       "    </tr>\n",
       "    <tr>\n",
       "      <th>1</th>\n",
       "      <td>2017-01-03</td>\n",
       "      <td>2017-01-03</td>\n",
       "      <td>26676.0</td>\n",
       "    </tr>\n",
       "    <tr>\n",
       "      <th>2</th>\n",
       "      <td>2017-01-04</td>\n",
       "      <td>2017-01-04</td>\n",
       "      <td>27091.9</td>\n",
       "    </tr>\n",
       "    <tr>\n",
       "      <th>3</th>\n",
       "      <td>2017-01-05</td>\n",
       "      <td>2017-01-05</td>\n",
       "      <td>27078.6</td>\n",
       "    </tr>\n",
       "    <tr>\n",
       "      <th>4</th>\n",
       "      <td>2017-01-06</td>\n",
       "      <td>2017-01-06</td>\n",
       "      <td>27246.4</td>\n",
       "    </tr>\n",
       "    <tr>\n",
       "      <th>5</th>\n",
       "      <td>2017-01-07</td>\n",
       "      <td>NaT</td>\n",
       "      <td>NaN</td>\n",
       "    </tr>\n",
       "    <tr>\n",
       "      <th>6</th>\n",
       "      <td>2017-01-08</td>\n",
       "      <td>NaT</td>\n",
       "      <td>NaN</td>\n",
       "    </tr>\n",
       "    <tr>\n",
       "      <th>7</th>\n",
       "      <td>2017-01-09</td>\n",
       "      <td>2017-01-09</td>\n",
       "      <td>27311.2</td>\n",
       "    </tr>\n",
       "    <tr>\n",
       "      <th>8</th>\n",
       "      <td>2017-01-10</td>\n",
       "      <td>2017-01-10</td>\n",
       "      <td>27441.5</td>\n",
       "    </tr>\n",
       "    <tr>\n",
       "      <th>9</th>\n",
       "      <td>2017-01-11</td>\n",
       "      <td>2017-01-11</td>\n",
       "      <td>27599.0</td>\n",
       "    </tr>\n",
       "    <tr>\n",
       "      <th>10</th>\n",
       "      <td>2017-01-12</td>\n",
       "      <td>2017-01-12</td>\n",
       "      <td>27877.6</td>\n",
       "    </tr>\n",
       "    <tr>\n",
       "      <th>11</th>\n",
       "      <td>2017-01-13</td>\n",
       "      <td>2017-01-13</td>\n",
       "      <td>27795.3</td>\n",
       "    </tr>\n",
       "    <tr>\n",
       "      <th>12</th>\n",
       "      <td>2017-01-14</td>\n",
       "      <td>NaT</td>\n",
       "      <td>NaN</td>\n",
       "    </tr>\n",
       "    <tr>\n",
       "      <th>13</th>\n",
       "      <td>2017-01-15</td>\n",
       "      <td>NaT</td>\n",
       "      <td>NaN</td>\n",
       "    </tr>\n",
       "    <tr>\n",
       "      <th>14</th>\n",
       "      <td>2017-01-16</td>\n",
       "      <td>2017-01-16</td>\n",
       "      <td>27927.7</td>\n",
       "    </tr>\n",
       "    <tr>\n",
       "      <th>15</th>\n",
       "      <td>2017-01-17</td>\n",
       "      <td>2017-01-17</td>\n",
       "      <td>28152.6</td>\n",
       "    </tr>\n",
       "    <tr>\n",
       "      <th>16</th>\n",
       "      <td>2017-01-18</td>\n",
       "      <td>2017-01-18</td>\n",
       "      <td>28080.1</td>\n",
       "    </tr>\n",
       "    <tr>\n",
       "      <th>17</th>\n",
       "      <td>2017-01-19</td>\n",
       "      <td>2017-01-19</td>\n",
       "      <td>27962.2</td>\n",
       "    </tr>\n",
       "    <tr>\n",
       "      <th>18</th>\n",
       "      <td>2017-01-20</td>\n",
       "      <td>2017-01-20</td>\n",
       "      <td>27892.1</td>\n",
       "    </tr>\n",
       "    <tr>\n",
       "      <th>19</th>\n",
       "      <td>2017-01-21</td>\n",
       "      <td>NaT</td>\n",
       "      <td>NaN</td>\n",
       "    </tr>\n",
       "  </tbody>\n",
       "</table>\n",
       "</div>"
      ],
      "text/plain": [
       "         date       Date   Prices\n",
       "0  2017-01-02 2017-01-02  27918.5\n",
       "1  2017-01-03 2017-01-03  26676.0\n",
       "2  2017-01-04 2017-01-04  27091.9\n",
       "3  2017-01-05 2017-01-05  27078.6\n",
       "4  2017-01-06 2017-01-06  27246.4\n",
       "5  2017-01-07        NaT      NaN\n",
       "6  2017-01-08        NaT      NaN\n",
       "7  2017-01-09 2017-01-09  27311.2\n",
       "8  2017-01-10 2017-01-10  27441.5\n",
       "9  2017-01-11 2017-01-11  27599.0\n",
       "10 2017-01-12 2017-01-12  27877.6\n",
       "11 2017-01-13 2017-01-13  27795.3\n",
       "12 2017-01-14        NaT      NaN\n",
       "13 2017-01-15        NaT      NaN\n",
       "14 2017-01-16 2017-01-16  27927.7\n",
       "15 2017-01-17 2017-01-17  28152.6\n",
       "16 2017-01-18 2017-01-18  28080.1\n",
       "17 2017-01-19 2017-01-19  27962.2\n",
       "18 2017-01-20 2017-01-20  27892.1\n",
       "19 2017-01-21        NaT      NaN"
      ]
     },
     "execution_count": 21,
     "metadata": {},
     "output_type": "execute_result"
    }
   ],
   "source": [
    "data.all.head(20)"
   ]
  },
  {
   "cell_type": "code",
   "execution_count": 22,
   "metadata": {},
   "outputs": [
    {
     "data": {
      "text/html": [
       "<div>\n",
       "<style scoped>\n",
       "    .dataframe tbody tr th:only-of-type {\n",
       "        vertical-align: middle;\n",
       "    }\n",
       "\n",
       "    .dataframe tbody tr th {\n",
       "        vertical-align: top;\n",
       "    }\n",
       "\n",
       "    .dataframe thead th {\n",
       "        text-align: right;\n",
       "    }\n",
       "</style>\n",
       "<table border=\"1\" class=\"dataframe\">\n",
       "  <thead>\n",
       "    <tr style=\"text-align: right;\">\n",
       "      <th></th>\n",
       "      <th>date</th>\n",
       "      <th>Date</th>\n",
       "      <th>Prices</th>\n",
       "    </tr>\n",
       "  </thead>\n",
       "  <tbody>\n",
       "    <tr>\n",
       "      <th>1908</th>\n",
       "      <td>2022-03-25</td>\n",
       "      <td>2022-03-25</td>\n",
       "      <td>51687.5</td>\n",
       "    </tr>\n",
       "    <tr>\n",
       "      <th>1909</th>\n",
       "      <td>2022-03-26</td>\n",
       "      <td>NaT</td>\n",
       "      <td>NaN</td>\n",
       "    </tr>\n",
       "    <tr>\n",
       "      <th>1910</th>\n",
       "      <td>2022-03-27</td>\n",
       "      <td>NaT</td>\n",
       "      <td>NaN</td>\n",
       "    </tr>\n",
       "    <tr>\n",
       "      <th>1911</th>\n",
       "      <td>2022-03-28</td>\n",
       "      <td>2022-03-28</td>\n",
       "      <td>51712.5</td>\n",
       "    </tr>\n",
       "    <tr>\n",
       "      <th>1912</th>\n",
       "      <td>2022-03-29</td>\n",
       "      <td>2022-03-29</td>\n",
       "      <td>51637.5</td>\n",
       "    </tr>\n",
       "    <tr>\n",
       "      <th>1913</th>\n",
       "      <td>2022-03-30</td>\n",
       "      <td>2022-03-30</td>\n",
       "      <td>51687.5</td>\n",
       "    </tr>\n",
       "    <tr>\n",
       "      <th>1914</th>\n",
       "      <td>2022-03-31</td>\n",
       "      <td>2022-03-31</td>\n",
       "      <td>51687.5</td>\n",
       "    </tr>\n",
       "    <tr>\n",
       "      <th>1915</th>\n",
       "      <td>2022-04-01</td>\n",
       "      <td>2022-04-01</td>\n",
       "      <td>51520.0</td>\n",
       "    </tr>\n",
       "    <tr>\n",
       "      <th>1916</th>\n",
       "      <td>2022-04-02</td>\n",
       "      <td>NaT</td>\n",
       "      <td>NaN</td>\n",
       "    </tr>\n",
       "    <tr>\n",
       "      <th>1917</th>\n",
       "      <td>2022-04-03</td>\n",
       "      <td>NaT</td>\n",
       "      <td>NaN</td>\n",
       "    </tr>\n",
       "    <tr>\n",
       "      <th>1918</th>\n",
       "      <td>2022-04-04</td>\n",
       "      <td>2022-04-04</td>\n",
       "      <td>51905.0</td>\n",
       "    </tr>\n",
       "    <tr>\n",
       "      <th>1919</th>\n",
       "      <td>2022-04-05</td>\n",
       "      <td>2022-04-05</td>\n",
       "      <td>51750.0</td>\n",
       "    </tr>\n",
       "    <tr>\n",
       "      <th>1920</th>\n",
       "      <td>2022-04-06</td>\n",
       "      <td>2022-04-06</td>\n",
       "      <td>51912.5</td>\n",
       "    </tr>\n",
       "    <tr>\n",
       "      <th>1921</th>\n",
       "      <td>2022-04-07</td>\n",
       "      <td>2022-04-07</td>\n",
       "      <td>51987.5</td>\n",
       "    </tr>\n",
       "    <tr>\n",
       "      <th>1922</th>\n",
       "      <td>2022-04-08</td>\n",
       "      <td>2022-04-08</td>\n",
       "      <td>52212.5</td>\n",
       "    </tr>\n",
       "    <tr>\n",
       "      <th>1923</th>\n",
       "      <td>2022-04-09</td>\n",
       "      <td>NaT</td>\n",
       "      <td>NaN</td>\n",
       "    </tr>\n",
       "    <tr>\n",
       "      <th>1924</th>\n",
       "      <td>2022-04-10</td>\n",
       "      <td>NaT</td>\n",
       "      <td>NaN</td>\n",
       "    </tr>\n",
       "    <tr>\n",
       "      <th>1925</th>\n",
       "      <td>2022-04-11</td>\n",
       "      <td>2022-04-11</td>\n",
       "      <td>52500.0</td>\n",
       "    </tr>\n",
       "    <tr>\n",
       "      <th>1926</th>\n",
       "      <td>2022-04-12</td>\n",
       "      <td>2022-04-12</td>\n",
       "      <td>52562.5</td>\n",
       "    </tr>\n",
       "    <tr>\n",
       "      <th>1927</th>\n",
       "      <td>2022-04-13</td>\n",
       "      <td>2022-04-13</td>\n",
       "      <td>52700.0</td>\n",
       "    </tr>\n",
       "  </tbody>\n",
       "</table>\n",
       "</div>"
      ],
      "text/plain": [
       "           date       Date   Prices\n",
       "1908 2022-03-25 2022-03-25  51687.5\n",
       "1909 2022-03-26        NaT      NaN\n",
       "1910 2022-03-27        NaT      NaN\n",
       "1911 2022-03-28 2022-03-28  51712.5\n",
       "1912 2022-03-29 2022-03-29  51637.5\n",
       "1913 2022-03-30 2022-03-30  51687.5\n",
       "1914 2022-03-31 2022-03-31  51687.5\n",
       "1915 2022-04-01 2022-04-01  51520.0\n",
       "1916 2022-04-02        NaT      NaN\n",
       "1917 2022-04-03        NaT      NaN\n",
       "1918 2022-04-04 2022-04-04  51905.0\n",
       "1919 2022-04-05 2022-04-05  51750.0\n",
       "1920 2022-04-06 2022-04-06  51912.5\n",
       "1921 2022-04-07 2022-04-07  51987.5\n",
       "1922 2022-04-08 2022-04-08  52212.5\n",
       "1923 2022-04-09        NaT      NaN\n",
       "1924 2022-04-10        NaT      NaN\n",
       "1925 2022-04-11 2022-04-11  52500.0\n",
       "1926 2022-04-12 2022-04-12  52562.5\n",
       "1927 2022-04-13 2022-04-13  52700.0"
      ]
     },
     "execution_count": 22,
     "metadata": {},
     "output_type": "execute_result"
    }
   ],
   "source": [
    "data.all.tail(20)"
   ]
  },
  {
   "cell_type": "code",
   "execution_count": 23,
   "metadata": {},
   "outputs": [],
   "source": [
    "data=data.all.drop(['Date'],axis=1)"
   ]
  },
  {
   "cell_type": "markdown",
   "metadata": {},
   "source": [
    "# filling nan using interpolate"
   ]
  },
  {
   "cell_type": "code",
   "execution_count": 24,
   "metadata": {},
   "outputs": [
    {
     "data": {
      "text/html": [
       "<div>\n",
       "<style scoped>\n",
       "    .dataframe tbody tr th:only-of-type {\n",
       "        vertical-align: middle;\n",
       "    }\n",
       "\n",
       "    .dataframe tbody tr th {\n",
       "        vertical-align: top;\n",
       "    }\n",
       "\n",
       "    .dataframe thead th {\n",
       "        text-align: right;\n",
       "    }\n",
       "</style>\n",
       "<table border=\"1\" class=\"dataframe\">\n",
       "  <thead>\n",
       "    <tr style=\"text-align: right;\">\n",
       "      <th></th>\n",
       "      <th>date</th>\n",
       "      <th>Prices</th>\n",
       "    </tr>\n",
       "  </thead>\n",
       "  <tbody>\n",
       "    <tr>\n",
       "      <th>0</th>\n",
       "      <td>2017-01-02</td>\n",
       "      <td>27918.5</td>\n",
       "    </tr>\n",
       "    <tr>\n",
       "      <th>1</th>\n",
       "      <td>2017-01-03</td>\n",
       "      <td>26676.0</td>\n",
       "    </tr>\n",
       "    <tr>\n",
       "      <th>2</th>\n",
       "      <td>2017-01-04</td>\n",
       "      <td>27091.9</td>\n",
       "    </tr>\n",
       "    <tr>\n",
       "      <th>3</th>\n",
       "      <td>2017-01-05</td>\n",
       "      <td>27078.6</td>\n",
       "    </tr>\n",
       "    <tr>\n",
       "      <th>4</th>\n",
       "      <td>2017-01-06</td>\n",
       "      <td>27246.4</td>\n",
       "    </tr>\n",
       "    <tr>\n",
       "      <th>5</th>\n",
       "      <td>2017-01-07</td>\n",
       "      <td>NaN</td>\n",
       "    </tr>\n",
       "    <tr>\n",
       "      <th>6</th>\n",
       "      <td>2017-01-08</td>\n",
       "      <td>NaN</td>\n",
       "    </tr>\n",
       "    <tr>\n",
       "      <th>7</th>\n",
       "      <td>2017-01-09</td>\n",
       "      <td>27311.2</td>\n",
       "    </tr>\n",
       "    <tr>\n",
       "      <th>8</th>\n",
       "      <td>2017-01-10</td>\n",
       "      <td>27441.5</td>\n",
       "    </tr>\n",
       "    <tr>\n",
       "      <th>9</th>\n",
       "      <td>2017-01-11</td>\n",
       "      <td>27599.0</td>\n",
       "    </tr>\n",
       "    <tr>\n",
       "      <th>10</th>\n",
       "      <td>2017-01-12</td>\n",
       "      <td>27877.6</td>\n",
       "    </tr>\n",
       "    <tr>\n",
       "      <th>11</th>\n",
       "      <td>2017-01-13</td>\n",
       "      <td>27795.3</td>\n",
       "    </tr>\n",
       "    <tr>\n",
       "      <th>12</th>\n",
       "      <td>2017-01-14</td>\n",
       "      <td>NaN</td>\n",
       "    </tr>\n",
       "    <tr>\n",
       "      <th>13</th>\n",
       "      <td>2017-01-15</td>\n",
       "      <td>NaN</td>\n",
       "    </tr>\n",
       "    <tr>\n",
       "      <th>14</th>\n",
       "      <td>2017-01-16</td>\n",
       "      <td>27927.7</td>\n",
       "    </tr>\n",
       "    <tr>\n",
       "      <th>15</th>\n",
       "      <td>2017-01-17</td>\n",
       "      <td>28152.6</td>\n",
       "    </tr>\n",
       "    <tr>\n",
       "      <th>16</th>\n",
       "      <td>2017-01-18</td>\n",
       "      <td>28080.1</td>\n",
       "    </tr>\n",
       "    <tr>\n",
       "      <th>17</th>\n",
       "      <td>2017-01-19</td>\n",
       "      <td>27962.2</td>\n",
       "    </tr>\n",
       "    <tr>\n",
       "      <th>18</th>\n",
       "      <td>2017-01-20</td>\n",
       "      <td>27892.1</td>\n",
       "    </tr>\n",
       "    <tr>\n",
       "      <th>19</th>\n",
       "      <td>2017-01-21</td>\n",
       "      <td>NaN</td>\n",
       "    </tr>\n",
       "  </tbody>\n",
       "</table>\n",
       "</div>"
      ],
      "text/plain": [
       "         date   Prices\n",
       "0  2017-01-02  27918.5\n",
       "1  2017-01-03  26676.0\n",
       "2  2017-01-04  27091.9\n",
       "3  2017-01-05  27078.6\n",
       "4  2017-01-06  27246.4\n",
       "5  2017-01-07      NaN\n",
       "6  2017-01-08      NaN\n",
       "7  2017-01-09  27311.2\n",
       "8  2017-01-10  27441.5\n",
       "9  2017-01-11  27599.0\n",
       "10 2017-01-12  27877.6\n",
       "11 2017-01-13  27795.3\n",
       "12 2017-01-14      NaN\n",
       "13 2017-01-15      NaN\n",
       "14 2017-01-16  27927.7\n",
       "15 2017-01-17  28152.6\n",
       "16 2017-01-18  28080.1\n",
       "17 2017-01-19  27962.2\n",
       "18 2017-01-20  27892.1\n",
       "19 2017-01-21      NaN"
      ]
     },
     "execution_count": 24,
     "metadata": {},
     "output_type": "execute_result"
    }
   ],
   "source": [
    "data.head(20)"
   ]
  },
  {
   "cell_type": "code",
   "execution_count": 25,
   "metadata": {},
   "outputs": [],
   "source": [
    "data['Prices']=data['Prices'].interpolate(method='linear',limit_direction='forward')"
   ]
  },
  {
   "cell_type": "code",
   "execution_count": 26,
   "metadata": {},
   "outputs": [],
   "source": [
    "data_nomiss=data.copy()"
   ]
  },
  {
   "cell_type": "code",
   "execution_count": 27,
   "metadata": {},
   "outputs": [
    {
     "data": {
      "text/html": [
       "<div>\n",
       "<style scoped>\n",
       "    .dataframe tbody tr th:only-of-type {\n",
       "        vertical-align: middle;\n",
       "    }\n",
       "\n",
       "    .dataframe tbody tr th {\n",
       "        vertical-align: top;\n",
       "    }\n",
       "\n",
       "    .dataframe thead th {\n",
       "        text-align: right;\n",
       "    }\n",
       "</style>\n",
       "<table border=\"1\" class=\"dataframe\">\n",
       "  <thead>\n",
       "    <tr style=\"text-align: right;\">\n",
       "      <th></th>\n",
       "      <th>date</th>\n",
       "      <th>Prices</th>\n",
       "    </tr>\n",
       "  </thead>\n",
       "  <tbody>\n",
       "    <tr>\n",
       "      <th>0</th>\n",
       "      <td>2017-01-02</td>\n",
       "      <td>27918.500000</td>\n",
       "    </tr>\n",
       "    <tr>\n",
       "      <th>1</th>\n",
       "      <td>2017-01-03</td>\n",
       "      <td>26676.000000</td>\n",
       "    </tr>\n",
       "    <tr>\n",
       "      <th>2</th>\n",
       "      <td>2017-01-04</td>\n",
       "      <td>27091.900000</td>\n",
       "    </tr>\n",
       "    <tr>\n",
       "      <th>3</th>\n",
       "      <td>2017-01-05</td>\n",
       "      <td>27078.600000</td>\n",
       "    </tr>\n",
       "    <tr>\n",
       "      <th>4</th>\n",
       "      <td>2017-01-06</td>\n",
       "      <td>27246.400000</td>\n",
       "    </tr>\n",
       "    <tr>\n",
       "      <th>5</th>\n",
       "      <td>2017-01-07</td>\n",
       "      <td>27268.000000</td>\n",
       "    </tr>\n",
       "    <tr>\n",
       "      <th>6</th>\n",
       "      <td>2017-01-08</td>\n",
       "      <td>27289.600000</td>\n",
       "    </tr>\n",
       "    <tr>\n",
       "      <th>7</th>\n",
       "      <td>2017-01-09</td>\n",
       "      <td>27311.200000</td>\n",
       "    </tr>\n",
       "    <tr>\n",
       "      <th>8</th>\n",
       "      <td>2017-01-10</td>\n",
       "      <td>27441.500000</td>\n",
       "    </tr>\n",
       "    <tr>\n",
       "      <th>9</th>\n",
       "      <td>2017-01-11</td>\n",
       "      <td>27599.000000</td>\n",
       "    </tr>\n",
       "    <tr>\n",
       "      <th>10</th>\n",
       "      <td>2017-01-12</td>\n",
       "      <td>27877.600000</td>\n",
       "    </tr>\n",
       "    <tr>\n",
       "      <th>11</th>\n",
       "      <td>2017-01-13</td>\n",
       "      <td>27795.300000</td>\n",
       "    </tr>\n",
       "    <tr>\n",
       "      <th>12</th>\n",
       "      <td>2017-01-14</td>\n",
       "      <td>27839.433333</td>\n",
       "    </tr>\n",
       "    <tr>\n",
       "      <th>13</th>\n",
       "      <td>2017-01-15</td>\n",
       "      <td>27883.566667</td>\n",
       "    </tr>\n",
       "    <tr>\n",
       "      <th>14</th>\n",
       "      <td>2017-01-16</td>\n",
       "      <td>27927.700000</td>\n",
       "    </tr>\n",
       "    <tr>\n",
       "      <th>15</th>\n",
       "      <td>2017-01-17</td>\n",
       "      <td>28152.600000</td>\n",
       "    </tr>\n",
       "    <tr>\n",
       "      <th>16</th>\n",
       "      <td>2017-01-18</td>\n",
       "      <td>28080.100000</td>\n",
       "    </tr>\n",
       "    <tr>\n",
       "      <th>17</th>\n",
       "      <td>2017-01-19</td>\n",
       "      <td>27962.200000</td>\n",
       "    </tr>\n",
       "    <tr>\n",
       "      <th>18</th>\n",
       "      <td>2017-01-20</td>\n",
       "      <td>27892.100000</td>\n",
       "    </tr>\n",
       "    <tr>\n",
       "      <th>19</th>\n",
       "      <td>2017-01-21</td>\n",
       "      <td>27953.300000</td>\n",
       "    </tr>\n",
       "  </tbody>\n",
       "</table>\n",
       "</div>"
      ],
      "text/plain": [
       "         date        Prices\n",
       "0  2017-01-02  27918.500000\n",
       "1  2017-01-03  26676.000000\n",
       "2  2017-01-04  27091.900000\n",
       "3  2017-01-05  27078.600000\n",
       "4  2017-01-06  27246.400000\n",
       "5  2017-01-07  27268.000000\n",
       "6  2017-01-08  27289.600000\n",
       "7  2017-01-09  27311.200000\n",
       "8  2017-01-10  27441.500000\n",
       "9  2017-01-11  27599.000000\n",
       "10 2017-01-12  27877.600000\n",
       "11 2017-01-13  27795.300000\n",
       "12 2017-01-14  27839.433333\n",
       "13 2017-01-15  27883.566667\n",
       "14 2017-01-16  27927.700000\n",
       "15 2017-01-17  28152.600000\n",
       "16 2017-01-18  28080.100000\n",
       "17 2017-01-19  27962.200000\n",
       "18 2017-01-20  27892.100000\n",
       "19 2017-01-21  27953.300000"
      ]
     },
     "execution_count": 27,
     "metadata": {},
     "output_type": "execute_result"
    }
   ],
   "source": [
    "data_nomiss.head(20)"
   ]
  },
  {
   "cell_type": "code",
   "execution_count": 28,
   "metadata": {},
   "outputs": [
    {
     "data": {
      "text/plain": [
       "date      0\n",
       "Prices    0\n",
       "dtype: int64"
      ]
     },
     "execution_count": 28,
     "metadata": {},
     "output_type": "execute_result"
    }
   ],
   "source": [
    "data_nomiss.isnull().sum()"
   ]
  },
  {
   "cell_type": "code",
   "execution_count": 29,
   "metadata": {},
   "outputs": [
    {
     "data": {
      "text/plain": [
       "[<matplotlib.lines.Line2D at 0x2c73cbd6be0>]"
      ]
     },
     "execution_count": 29,
     "metadata": {},
     "output_type": "execute_result"
    },
    {
     "data": {
      "image/png": "[encoded data removed]",
      "text/plain": [
       "<Figure size 432x288 with 1 Axes>"
      ]
     },
     "metadata": {
      "needs_background": "light"
     },
     "output_type": "display_data"
    }
   ],
   "source": [
    "plt.plot(data_nomiss.Prices)"
   ]
  },
  {
   "cell_type": "code",
   "execution_count": 30,
   "metadata": {},
   "outputs": [],
   "source": [
    "data_nomiss['month']=data_nomiss['date'].dt.month\n",
    "data_nomiss['year']=data_nomiss['date'].dt.year"
   ]
  },
  {
   "cell_type": "code",
   "execution_count": 31,
   "metadata": {},
   "outputs": [
    {
     "data": {
      "text/html": [
       "<div>\n",
       "<style scoped>\n",
       "    .dataframe tbody tr th:only-of-type {\n",
       "        vertical-align: middle;\n",
       "    }\n",
       "\n",
       "    .dataframe tbody tr th {\n",
       "        vertical-align: top;\n",
       "    }\n",
       "\n",
       "    .dataframe thead th {\n",
       "        text-align: right;\n",
       "    }\n",
       "</style>\n",
       "<table border=\"1\" class=\"dataframe\">\n",
       "  <thead>\n",
       "    <tr style=\"text-align: right;\">\n",
       "      <th></th>\n",
       "      <th>date</th>\n",
       "      <th>Prices</th>\n",
       "      <th>month</th>\n",
       "      <th>year</th>\n",
       "    </tr>\n",
       "  </thead>\n",
       "  <tbody>\n",
       "    <tr>\n",
       "      <th>0</th>\n",
       "      <td>2017-01-02</td>\n",
       "      <td>27918.5</td>\n",
       "      <td>1</td>\n",
       "      <td>2017</td>\n",
       "    </tr>\n",
       "    <tr>\n",
       "      <th>1</th>\n",
       "      <td>2017-01-03</td>\n",
       "      <td>26676.0</td>\n",
       "      <td>1</td>\n",
       "      <td>2017</td>\n",
       "    </tr>\n",
       "    <tr>\n",
       "      <th>2</th>\n",
       "      <td>2017-01-04</td>\n",
       "      <td>27091.9</td>\n",
       "      <td>1</td>\n",
       "      <td>2017</td>\n",
       "    </tr>\n",
       "    <tr>\n",
       "      <th>3</th>\n",
       "      <td>2017-01-05</td>\n",
       "      <td>27078.6</td>\n",
       "      <td>1</td>\n",
       "      <td>2017</td>\n",
       "    </tr>\n",
       "    <tr>\n",
       "      <th>4</th>\n",
       "      <td>2017-01-06</td>\n",
       "      <td>27246.4</td>\n",
       "      <td>1</td>\n",
       "      <td>2017</td>\n",
       "    </tr>\n",
       "  </tbody>\n",
       "</table>\n",
       "</div>"
      ],
      "text/plain": [
       "        date   Prices  month  year\n",
       "0 2017-01-02  27918.5      1  2017\n",
       "1 2017-01-03  26676.0      1  2017\n",
       "2 2017-01-04  27091.9      1  2017\n",
       "3 2017-01-05  27078.6      1  2017\n",
       "4 2017-01-06  27246.4      1  2017"
      ]
     },
     "execution_count": 31,
     "metadata": {},
     "output_type": "execute_result"
    }
   ],
   "source": [
    "data_nomiss.head()"
   ]
  },
  {
   "cell_type": "code",
   "execution_count": 32,
   "metadata": {},
   "outputs": [
    {
     "data": {
      "text/plain": [
       "(1928, 4)"
      ]
     },
     "execution_count": 32,
     "metadata": {},
     "output_type": "execute_result"
    }
   ],
   "source": [
    "data['time_seq']=np.arange(1,len(data)+1)\n",
    "data_nomiss.shape"
   ]
  },
  {
   "cell_type": "code",
   "execution_count": 33,
   "metadata": {},
   "outputs": [
    {
     "data": {
      "text/html": [
       "<div>\n",
       "<style scoped>\n",
       "    .dataframe tbody tr th:only-of-type {\n",
       "        vertical-align: middle;\n",
       "    }\n",
       "\n",
       "    .dataframe tbody tr th {\n",
       "        vertical-align: top;\n",
       "    }\n",
       "\n",
       "    .dataframe thead th {\n",
       "        text-align: right;\n",
       "    }\n",
       "</style>\n",
       "<table border=\"1\" class=\"dataframe\">\n",
       "  <thead>\n",
       "    <tr style=\"text-align: right;\">\n",
       "      <th></th>\n",
       "      <th>date</th>\n",
       "      <th>Prices</th>\n",
       "      <th>time_seq</th>\n",
       "    </tr>\n",
       "  </thead>\n",
       "  <tbody>\n",
       "    <tr>\n",
       "      <th>1923</th>\n",
       "      <td>2022-04-09</td>\n",
       "      <td>52308.333333</td>\n",
       "      <td>1924</td>\n",
       "    </tr>\n",
       "    <tr>\n",
       "      <th>1924</th>\n",
       "      <td>2022-04-10</td>\n",
       "      <td>52404.166667</td>\n",
       "      <td>1925</td>\n",
       "    </tr>\n",
       "    <tr>\n",
       "      <th>1925</th>\n",
       "      <td>2022-04-11</td>\n",
       "      <td>52500.000000</td>\n",
       "      <td>1926</td>\n",
       "    </tr>\n",
       "    <tr>\n",
       "      <th>1926</th>\n",
       "      <td>2022-04-12</td>\n",
       "      <td>52562.500000</td>\n",
       "      <td>1927</td>\n",
       "    </tr>\n",
       "    <tr>\n",
       "      <th>1927</th>\n",
       "      <td>2022-04-13</td>\n",
       "      <td>52700.000000</td>\n",
       "      <td>1928</td>\n",
       "    </tr>\n",
       "  </tbody>\n",
       "</table>\n",
       "</div>"
      ],
      "text/plain": [
       "           date        Prices  time_seq\n",
       "1923 2022-04-09  52308.333333      1924\n",
       "1924 2022-04-10  52404.166667      1925\n",
       "1925 2022-04-11  52500.000000      1926\n",
       "1926 2022-04-12  52562.500000      1927\n",
       "1927 2022-04-13  52700.000000      1928"
      ]
     },
     "execution_count": 33,
     "metadata": {},
     "output_type": "execute_result"
    }
   ],
   "source": [
    "data.tail()"
   ]
  },
  {
   "cell_type": "code",
   "execution_count": 34,
   "metadata": {},
   "outputs": [
    {
     "data": {
      "text/html": [
       "<div>\n",
       "<style scoped>\n",
       "    .dataframe tbody tr th:only-of-type {\n",
       "        vertical-align: middle;\n",
       "    }\n",
       "\n",
       "    .dataframe tbody tr th {\n",
       "        vertical-align: top;\n",
       "    }\n",
       "\n",
       "    .dataframe thead th {\n",
       "        text-align: right;\n",
       "    }\n",
       "</style>\n",
       "<table border=\"1\" class=\"dataframe\">\n",
       "  <thead>\n",
       "    <tr style=\"text-align: right;\">\n",
       "      <th></th>\n",
       "      <th>date</th>\n",
       "      <th>Prices</th>\n",
       "      <th>time_seq</th>\n",
       "    </tr>\n",
       "  </thead>\n",
       "  <tbody>\n",
       "    <tr>\n",
       "      <th>0</th>\n",
       "      <td>2017-01-02</td>\n",
       "      <td>27918.5</td>\n",
       "      <td>1</td>\n",
       "    </tr>\n",
       "    <tr>\n",
       "      <th>1</th>\n",
       "      <td>2017-01-03</td>\n",
       "      <td>26676.0</td>\n",
       "      <td>2</td>\n",
       "    </tr>\n",
       "    <tr>\n",
       "      <th>2</th>\n",
       "      <td>2017-01-04</td>\n",
       "      <td>27091.9</td>\n",
       "      <td>3</td>\n",
       "    </tr>\n",
       "    <tr>\n",
       "      <th>3</th>\n",
       "      <td>2017-01-05</td>\n",
       "      <td>27078.6</td>\n",
       "      <td>4</td>\n",
       "    </tr>\n",
       "    <tr>\n",
       "      <th>4</th>\n",
       "      <td>2017-01-06</td>\n",
       "      <td>27246.4</td>\n",
       "      <td>5</td>\n",
       "    </tr>\n",
       "  </tbody>\n",
       "</table>\n",
       "</div>"
      ],
      "text/plain": [
       "        date   Prices  time_seq\n",
       "0 2017-01-02  27918.5         1\n",
       "1 2017-01-03  26676.0         2\n",
       "2 2017-01-04  27091.9         3\n",
       "3 2017-01-05  27078.6         4\n",
       "4 2017-01-06  27246.4         5"
      ]
     },
     "execution_count": 34,
     "metadata": {},
     "output_type": "execute_result"
    }
   ],
   "source": [
    "data.head()"
   ]
  },
  {
   "cell_type": "code",
   "execution_count": 35,
   "metadata": {},
   "outputs": [
    {
     "data": {
      "image/png": "[encoded data removed]",
      "text/plain": [
       "<Figure size 864x144 with 1 Axes>"
      ]
     },
     "metadata": {
      "needs_background": "light"
     },
     "output_type": "display_data"
    }
   ],
   "source": [
    "fig=plt.subplots(figsize=(12,2))\n",
    "ax=sns.boxplot(x=data['Prices'],whis=1.5)         "
   ]
  },
  {
   "cell_type": "markdown",
   "metadata": {},
   "source": [
    "# creating time sequence and splitting into train and test"
   ]
  },
  {
   "cell_type": "code",
   "execution_count": 36,
   "metadata": {},
   "outputs": [],
   "source": [
    "x=data[['time_seq']]"
   ]
  },
  {
   "cell_type": "code",
   "execution_count": 37,
   "metadata": {},
   "outputs": [],
   "source": [
    "y=data_nomiss['Prices']"
   ]
  },
  {
   "cell_type": "code",
   "execution_count": 38,
   "metadata": {},
   "outputs": [
    {
     "name": "stdout",
     "output_type": "stream",
     "text": [
      "                               SARIMAX Results                                \n",
      "==============================================================================\n",
      "Dep. Variable:                 Prices   No. Observations:                 1928\n",
      "Model:               SARIMAX(1, 1, 1)   Log Likelihood              -13680.887\n",
      "Date:                Thu, 27 Apr 2023   AIC                          27367.774\n",
      "Time:                        19:36:01   BIC                          27384.465\n",
      "Sample:                             0   HQIC                         27373.914\n",
      "                               - 1928                                         \n",
      "Covariance Type:                  opg                                         \n",
      "==============================================================================\n",
      "                 coef    std err          z      P>|z|      [0.025      0.975]\n",
      "------------------------------------------------------------------------------\n",
      "ar.L1         -0.6386      0.130     -4.904      0.000      -0.894      -0.383\n",
      "ma.L1          0.5665      0.136      4.173      0.000       0.300       0.833\n",
      "sigma2      8.612e+04   1275.613     67.514      0.000    8.36e+04    8.86e+04\n",
      "===================================================================================\n",
      "Ljung-Box (L1) (Q):                   0.54   Jarque-Bera (JB):              6187.74\n",
      "Prob(Q):                              0.46   Prob(JB):                         0.00\n",
      "Heteroskedasticity (H):               4.45   Skew:                            -0.19\n",
      "Prob(H) (two-sided):                  0.00   Kurtosis:                        11.77\n",
      "===================================================================================\n",
      "\n",
      "Warnings:\n",
      "[1] Covariance matrix calculated using the outer product of gradients (complex-step).\n"
     ]
    }
   ],
   "source": [
    "from statsmodels.tsa.arima_model import ARIMA\n",
    "\n",
    "# 1,1,2 ARIMA Model\n",
    "model = sm.tsa.statespace.SARIMAX(data['Prices'], order=(1,1,1))\n",
    "model_fit = model.fit()\n",
    "print(model_fit.summary())"
   ]
  },
  {
   "cell_type": "code",
   "execution_count": 39,
   "metadata": {},
   "outputs": [
    {
     "name": "stdout",
     "output_type": "stream",
     "text": [
      "                               SARIMAX Results                                \n",
      "==============================================================================\n",
      "Dep. Variable:                 Prices   No. Observations:                 1928\n",
      "Model:               SARIMAX(1, 1, 2)   Log Likelihood              -13680.799\n",
      "Date:                Thu, 27 Apr 2023   AIC                          27369.597\n",
      "Time:                        19:36:01   BIC                          27391.852\n",
      "Sample:                             0   HQIC                         27377.784\n",
      "                               - 1928                                         \n",
      "Covariance Type:                  opg                                         \n",
      "==============================================================================\n",
      "                 coef    std err          z      P>|z|      [0.025      0.975]\n",
      "------------------------------------------------------------------------------\n",
      "ar.L1         -0.5498      0.230     -2.388      0.017      -1.001      -0.099\n",
      "ma.L1          0.4814      0.232      2.078      0.038       0.027       0.935\n",
      "ma.L2          0.0163      0.027      0.614      0.539      -0.036       0.069\n",
      "sigma2      8.572e+04   1296.718     66.106      0.000    8.32e+04    8.83e+04\n",
      "===================================================================================\n",
      "Ljung-Box (L1) (Q):                   0.35   Jarque-Bera (JB):              6277.18\n",
      "Prob(Q):                              0.56   Prob(JB):                         0.00\n",
      "Heteroskedasticity (H):               4.44   Skew:                            -0.19\n",
      "Prob(H) (two-sided):                  0.00   Kurtosis:                        11.83\n",
      "===================================================================================\n",
      "\n",
      "Warnings:\n",
      "[1] Covariance matrix calculated using the outer product of gradients (complex-step).\n"
     ]
    }
   ],
   "source": [
    "from statsmodels.tsa.arima_model import ARIMA\n",
    "\n",
    "# 1,1,2 ARIMA Model\n",
    "model = sm.tsa.statespace.SARIMAX(data['Prices'], order=(1,1,2))\n",
    "model_fit = model.fit()\n",
    "print(model_fit.summary())"
   ]
  },
  {
   "cell_type": "code",
   "execution_count": 40,
   "metadata": {},
   "outputs": [
    {
     "name": "stdout",
     "output_type": "stream",
     "text": [
      "                                    SARIMAX Results                                     \n",
      "========================================================================================\n",
      "Dep. Variable:                                y   No. Observations:                 1928\n",
      "Model:             ARIMA(1, 1, 1)x(1, 0, 1, 12)   Log Likelihood              -13675.124\n",
      "Date:                          Thu, 27 Apr 2023   AIC                          27360.248\n",
      "Time:                                  19:36:02   BIC                          27388.067\n",
      "Sample:                                       0   HQIC                         27370.482\n",
      "                                         - 1928                                         \n",
      "Covariance Type:                            opg                                         \n",
      "==============================================================================\n",
      "                 coef    std err          z      P>|z|      [0.025      0.975]\n",
      "------------------------------------------------------------------------------\n",
      "ar.L1         -0.6145      0.135     -4.537      0.000      -0.880      -0.349\n",
      "ma.L1          0.5404      0.141      3.839      0.000       0.265       0.816\n",
      "ar.S.L12      -0.8309      0.074    -11.280      0.000      -0.975      -0.686\n",
      "ma.S.L12       0.8739      0.066     13.289      0.000       0.745       1.003\n",
      "sigma2      8.542e+04   1301.754     65.620      0.000    8.29e+04     8.8e+04\n",
      "===================================================================================\n",
      "Ljung-Box (L1) (Q):                   0.49   Jarque-Bera (JB):              5848.79\n",
      "Prob(Q):                              0.48   Prob(JB):                         0.00\n",
      "Heteroskedasticity (H):               4.45   Skew:                            -0.16\n",
      "Prob(H) (two-sided):                  0.00   Kurtosis:                        11.53\n",
      "===================================================================================\n",
      "\n",
      "Warnings:\n",
      "[1] Covariance matrix calculated using the outer product of gradients (complex-step).\n"
     ]
    }
   ],
   "source": [
    "from statsmodels.tsa.arima.model import ARIMA\n",
    "model_sarima=ARIMA(data['Prices'].values,order=(1,1,1),seasonal_order=(1,0,1,12))\n",
    "model_sarima_fit=model_sarima.fit()\n",
    "print(model_sarima_fit.summary())"
   ]
  },
  {
   "cell_type": "code",
   "execution_count": 41,
   "metadata": {},
   "outputs": [],
   "source": [
    "data_nomiss.set_index('date',inplace=True)"
   ]
  },
  {
   "cell_type": "code",
   "execution_count": 42,
   "metadata": {},
   "outputs": [],
   "source": [
    "train=data.loc[data.time_seq<1446]\n",
    "test=data.loc[data.time_seq>=1446]"
   ]
  },
  {
   "cell_type": "code",
   "execution_count": 43,
   "metadata": {},
   "outputs": [
    {
     "name": "stdout",
     "output_type": "stream",
     "text": [
      "(1445, 3)\n",
      "(483, 3)\n"
     ]
    }
   ],
   "source": [
    "print(train.shape)\n",
    "print(test.shape)"
   ]
  },
  {
   "cell_type": "code",
   "execution_count": 44,
   "metadata": {},
   "outputs": [
    {
     "name": "stdout",
     "output_type": "stream",
     "text": [
      "0\n",
      "1444\n",
      "1445\n",
      "1927\n"
     ]
    }
   ],
   "source": [
    "print(train.index.min())\n",
    "print(train.index.max())\n",
    "print(test.index.min())\n",
    "print(test.index.max())"
   ]
  },
  {
   "cell_type": "code",
   "execution_count": 45,
   "metadata": {},
   "outputs": [
    {
     "name": "stderr",
     "output_type": "stream",
     "text": [
      "C:\\Users\\ushak\\programming\\New folder\\lib\\site-packages\\matplotlib\\cbook\\__init__.py:2062: FutureWarning: Support for multi-dimensional indexing (e.g. `obj[:, None]`) is deprecated and will be removed in a future version.  Convert to a numpy array before indexing instead.\n",
      "  x[:, None]\n",
      "C:\\Users\\ushak\\programming\\New folder\\lib\\site-packages\\matplotlib\\axes\\_base.py:248: FutureWarning: Support for multi-dimensional indexing (e.g. `obj[:, None]`) is deprecated and will be removed in a future version.  Convert to a numpy array before indexing instead.\n",
      "  x = x[:, np.newaxis]\n",
      "C:\\Users\\ushak\\programming\\New folder\\lib\\site-packages\\matplotlib\\axes\\_base.py:250: FutureWarning: Support for multi-dimensional indexing (e.g. `obj[:, None]`) is deprecated and will be removed in a future version.  Convert to a numpy array before indexing instead.\n",
      "  y = y[:, np.newaxis]\n"
     ]
    },
    {
     "data": {
      "image/png": "[encoded data removed]",
      "text/plain": [
       "<Figure size 432x288 with 1 Axes>"
      ]
     },
     "metadata": {
      "needs_background": "light"
     },
     "output_type": "display_data"
    },
    {
     "data": {
      "image/png": "[encoded data removed]",
      "text/plain": [
       "<Figure size 432x288 with 1 Axes>"
      ]
     },
     "metadata": {
      "needs_background": "light"
     },
     "output_type": "display_data"
    }
   ],
   "source": [
    "fig, ax = plt.subplots()\n",
    "lines = plt.plot(train.index, train.Prices, '-o')\n",
    "plt.setp(lines, linewidth=0.5)\n",
    "plt.xticks(rotation = 45)\n",
    "plt.title('daily Price (Train)')\n",
    "plt.xlabel('daily')\n",
    "plt.ylabel('Price')\n",
    "plt.legend(['Price'],loc = 'best')\n",
    "plt.show()\n",
    "fig, ax = plt.subplots()\n",
    "lines = plt.plot(test.index, test.Prices, '-o')\n",
    "plt.setp(lines, linewidth=0.5)\n",
    "plt.xticks(rotation = 45)\n",
    "plt.title('daily Price (test)')\n",
    "plt.xlabel('daily')\n",
    "plt.ylabel('Price')\n",
    "plt.legend([' Price'],loc = 'best')\n",
    "plt.show()"
   ]
  },
  {
   "cell_type": "markdown",
   "metadata": {},
   "source": [
    "# decomposition "
   ]
  },
  {
   "cell_type": "code",
   "execution_count": 46,
   "metadata": {},
   "outputs": [],
   "source": [
    "from statsmodels.tsa.seasonal import seasonal_decompose\n",
    "from statsmodels.graphics.tsaplots import plot_acf,plot_pacf"
   ]
  },
  {
   "cell_type": "code",
   "execution_count": 47,
   "metadata": {},
   "outputs": [
    {
     "name": "stderr",
     "output_type": "stream",
     "text": [
      "C:\\Users\\ushak\\programming\\New folder\\lib\\site-packages\\ipykernel_launcher.py:1: FutureWarning: the 'freq'' keyword is deprecated, use 'period' instead\n",
      "  \"\"\"Entry point for launching an IPython kernel.\n"
     ]
    }
   ],
   "source": [
    "decomposition = seasonal_decompose(train.Prices,freq=365)"
   ]
  },
  {
   "cell_type": "code",
   "execution_count": 48,
   "metadata": {},
   "outputs": [
    {
     "data": {
      "image/png": "[encoded data removed]",
      "text/plain": [
       "<Figure size 432x288 with 4 Axes>"
      ]
     },
     "metadata": {
      "needs_background": "light"
     },
     "output_type": "display_data"
    }
   ],
   "source": [
    "decomposition.plot()\n",
    "plt.show()"
   ]
  },
  {
   "cell_type": "markdown",
   "metadata": {},
   "source": [
    "# ACF and PACF"
   ]
  },
  {
   "cell_type": "code",
   "execution_count": 49,
   "metadata": {},
   "outputs": [
    {
     "data": {
      "image/png": "[encoded data removed]",
      "text/plain": [
       "<Figure size 432x288 with 1 Axes>"
      ]
     },
     "metadata": {
      "needs_background": "light"
     },
     "output_type": "display_data"
    },
    {
     "data": {
      "image/png": "[encoded data removed]",
      "text/plain": [
       "<Figure size 432x288 with 1 Axes>"
      ]
     },
     "metadata": {
      "needs_background": "light"
     },
     "output_type": "display_data"
    }
   ],
   "source": [
    "\n",
    "#### ACF: n th lag of ACF is the correlation between a day and n days before that. \n",
    "#PACF: The same as ACF with all intermediate correlations removed.\n",
    "\n",
    "#ACF\n",
    "plot_acf(train.Prices, zero=True, lags=int(24*0.5))\n",
    "plt.axhline(y=-1.96/np.sqrt(len(train)), linestyle='--', color='gray')\n",
    "plt.axhline(y=1.96/np.sqrt(len(train)), linestyle='--',color='gray')\n",
    "\n",
    "#PACF\n",
    "plot_pacf(train.Prices,zero=True,lags=int(24*0.5))\n",
    "plt.axhline(y=-1.96/np.sqrt(len(train)),linestyle='--',color='gray')\n",
    "plt.axhline(y=1.96/np.sqrt(len(train)),linestyle='--',color='gray')\n",
    "plt.show()\n",
    "\n",
    "\n",
    "\n",
    "\n",
    "\n"
   ]
  },
  {
   "cell_type": "code",
   "execution_count": 50,
   "metadata": {},
   "outputs": [
    {
     "data": {
      "image/png": "[encoded data removed]",
      "text/plain": [
       "<Figure size 432x288 with 1 Axes>"
      ]
     },
     "metadata": {
      "needs_background": "light"
     },
     "output_type": "display_data"
    }
   ],
   "source": [
    "#### Looking at the Y scale in ACF we observe that both trend and seasonality is present.\n",
    "\n",
    "#### Stationarize by differencing\n",
    "\n",
    "# Before differencing\n",
    "plt.subplot(212)\n",
    "plt.plot(train.Prices)\n",
    "plt.xticks(rotation=30)\n",
    "plt.title(\"Original data\")\n",
    "plt.show()"
   ]
  },
  {
   "cell_type": "code",
   "execution_count": 51,
   "metadata": {},
   "outputs": [
    {
     "data": {
      "image/png": "[encoded data removed]",
      "text/plain": [
       "<Figure size 432x288 with 1 Axes>"
      ]
     },
     "metadata": {
      "needs_background": "light"
     },
     "output_type": "display_data"
    }
   ],
   "source": [
    "# After differencing\n",
    "plt.subplot(212)\n",
    "plt.plot(train.Prices.diff(1))\n",
    "plt.xticks(rotation=365)\n",
    "plt.title(\"Seasonal Difference data\")\n",
    "plt.show()\n"
   ]
  },
  {
   "cell_type": "markdown",
   "metadata": {},
   "source": [
    "# acf and pacf after differencing with 1"
   ]
  },
  {
   "cell_type": "code",
   "execution_count": 52,
   "metadata": {},
   "outputs": [
    {
     "data": {
      "image/png": "[encoded data removed]",
      "text/plain": [
       "<Figure size 432x288 with 1 Axes>"
      ]
     },
     "metadata": {
      "needs_background": "light"
     },
     "output_type": "display_data"
    },
    {
     "data": {
      "image/png": "[encoded data removed]",
      "text/plain": [
       "<Figure size 432x288 with 1 Axes>"
      ]
     },
     "metadata": {
      "needs_background": "light"
     },
     "output_type": "display_data"
    }
   ],
   "source": [
    "plot_acf(train.Prices.diff(1).dropna(),zero=True,lags=12,title='Autocorrelation of differenced data')\n",
    "plt.axhline(y=-1.96/np.sqrt(len(train)),linestyle='--',color='gray')\n",
    "plt.axhline(y=1.96/np.sqrt(len(train)),linestyle='--',color='gray')\n",
    "\n",
    "plot_pacf(train.Prices.diff(1).dropna(),zero=True,lags=12,title='PartialAutocorrelation of differenced data')\n",
    "plt.axhline(y=-1.96/np.sqrt(len(train)),linestyle='--',color='gray')\n",
    "plt.axhline(y=1.96/np.sqrt(len(train)),linestyle='--',color='gray')\n",
    "\n",
    "plt.show()\n"
   ]
  },
  {
   "cell_type": "markdown",
   "metadata": {},
   "source": [
    "# adf test (diff 1)"
   ]
  },
  {
   "cell_type": "code",
   "execution_count": 53,
   "metadata": {},
   "outputs": [
    {
     "name": "stdout",
     "output_type": "stream",
     "text": [
      "ADF Statistic: -9.654067\n",
      "p-value: 0.000000\n",
      "Critical Values:\n",
      "\t1%: -3.435\n",
      "\t5%: -2.864\n",
      "\t10%: -2.568\n"
     ]
    }
   ],
   "source": [
    "from statsmodels.tsa.stattools import adfuller\n",
    "result = adfuller(train.Prices.diff(1).dropna())\n",
    "print('ADF Statistic: %f' % result[0])\n",
    "print('p-value: %f' % result[1])\n",
    "print('Critical Values:')\n",
    "for key, value in result[4].items():\n",
    "\tprint('\\t%s: %.3f' % (key, value))"
   ]
  },
  {
   "cell_type": "markdown",
   "metadata": {},
   "source": [
    "# plots after differencing with 2"
   ]
  },
  {
   "cell_type": "code",
   "execution_count": 54,
   "metadata": {},
   "outputs": [
    {
     "data": {
      "image/png": "[encoded data removed]",
      "text/plain": [
       "<Figure size 432x288 with 1 Axes>"
      ]
     },
     "metadata": {
      "needs_background": "light"
     },
     "output_type": "display_data"
    }
   ],
   "source": [
    "# After differencing\n",
    "plt.subplot(212)\n",
    "plt.plot(train.Prices.diff(2))\n",
    "plt.xticks(rotation=365)\n",
    "plt.title(\"Seasonal Difference data\")\n",
    "plt.show()\n"
   ]
  },
  {
   "cell_type": "code",
   "execution_count": 55,
   "metadata": {},
   "outputs": [
    {
     "data": {
      "image/png": "[encoded data removed]",
      "text/plain": [
       "<Figure size 432x288 with 1 Axes>"
      ]
     },
     "metadata": {
      "needs_background": "light"
     },
     "output_type": "display_data"
    },
    {
     "data": {
      "image/png": "[encoded data removed]",
      "text/plain": [
       "<Figure size 432x288 with 1 Axes>"
      ]
     },
     "metadata": {
      "needs_background": "light"
     },
     "output_type": "display_data"
    }
   ],
   "source": [
    "plot_acf(train.Prices.diff(2).dropna(),zero=True,lags=12,title='Autocorrelation of differenced data')\n",
    "plt.axhline(y=-1.96/np.sqrt(len(train)),linestyle='--',color='gray')\n",
    "plt.axhline(y=1.96/np.sqrt(len(train)),linestyle='--',color='gray')\n",
    "\n",
    "plot_pacf(train.Prices.diff(2).dropna(),zero=True,lags=12,title='PartialAutocorrelation of differenced data')\n",
    "plt.axhline(y=-1.96/np.sqrt(len(train)),linestyle='--',color='gray')\n",
    "plt.axhline(y=1.96/np.sqrt(len(train)),linestyle='--',color='gray')\n",
    "\n",
    "plt.show()\n"
   ]
  },
  {
   "cell_type": "markdown",
   "metadata": {},
   "source": [
    "# adf test (diff 2)"
   ]
  },
  {
   "cell_type": "code",
   "execution_count": 56,
   "metadata": {},
   "outputs": [
    {
     "name": "stdout",
     "output_type": "stream",
     "text": [
      "ADF Statistic: -8.067724\n",
      "p-value: 0.000000\n",
      "Critical Values:\n",
      "\t1%: -3.435\n",
      "\t5%: -2.864\n",
      "\t10%: -2.568\n"
     ]
    }
   ],
   "source": [
    "from statsmodels.tsa.stattools import adfuller\n",
    "result = adfuller(train.Prices.diff(2).dropna())\n",
    "print('ADF Statistic: %f' % result[0])\n",
    "print('p-value: %f' % result[1])\n",
    "print('Critical Values:')\n",
    "for key, value in result[4].items():\n",
    "\tprint('\\t%s: %.3f' % (key, value))"
   ]
  },
  {
   "cell_type": "markdown",
   "metadata": {},
   "source": [
    "# ARIMA"
   ]
  },
  {
   "cell_type": "code",
   "execution_count": 57,
   "metadata": {},
   "outputs": [
    {
     "name": "stdout",
     "output_type": "stream",
     "text": [
      "\n",
      "The following command must be run outside of the IPython shell:\n",
      "\n",
      "    $ pip install statsmodels\n",
      "\n",
      "The Python package manager (pip) can only be used from outside of IPython.\n",
      "Please reissue the `pip` command in a separate terminal or command prompt.\n",
      "\n",
      "See the Python documentation for more information on how to install packages:\n",
      "\n",
      "    https://docs.python.org/3/installing/\n"
     ]
    }
   ],
   "source": [
    "pip install statsmodels"
   ]
  },
  {
   "cell_type": "code",
   "execution_count": 58,
   "metadata": {},
   "outputs": [],
   "source": [
    "from statsmodels.tsa.arima.model import ARIMA"
   ]
  },
  {
   "cell_type": "code",
   "execution_count": 59,
   "metadata": {},
   "outputs": [
    {
     "name": "stdout",
     "output_type": "stream",
     "text": [
      "                               SARIMAX Results                                \n",
      "==============================================================================\n",
      "Dep. Variable:                      y   No. Observations:                 1445\n",
      "Model:                 ARIMA(2, 1, 2)   Log Likelihood              -10142.946\n",
      "Date:                Thu, 27 Apr 2023   AIC                          20295.893\n",
      "Time:                        19:36:04   BIC                          20322.269\n",
      "Sample:                             0   HQIC                         20305.737\n",
      "                               - 1445                                         \n",
      "Covariance Type:                  opg                                         \n",
      "==============================================================================\n",
      "                 coef    std err          z      P>|z|      [0.025      0.975]\n",
      "------------------------------------------------------------------------------\n",
      "ar.L1         -0.2308      0.299     -0.773      0.440      -0.816       0.355\n",
      "ar.L2          0.6901      0.272      2.540      0.011       0.158       1.222\n",
      "ma.L1          0.1822      0.296      0.615      0.539      -0.399       0.763\n",
      "ma.L2         -0.6839      0.256     -2.670      0.008      -1.186      -0.182\n",
      "sigma2      7.402e+04   1230.469     60.156      0.000    7.16e+04    7.64e+04\n",
      "===================================================================================\n",
      "Ljung-Box (L1) (Q):                   0.17   Jarque-Bera (JB):              7294.17\n",
      "Prob(Q):                              0.68   Prob(JB):                         0.00\n",
      "Heteroskedasticity (H):               3.14   Skew:                            -0.43\n",
      "Prob(H) (two-sided):                  0.00   Kurtosis:                        13.98\n",
      "===================================================================================\n",
      "\n",
      "Warnings:\n",
      "[1] Covariance matrix calculated using the outer product of gradients (complex-step).\n"
     ]
    }
   ],
   "source": [
    "# we have took d as 1 after observing acf and pacf plots of both diff1 and diff2\n",
    "#model 2,1,2 (trial and error)\n",
    "model_arima = ARIMA(train['Prices'].values, order=(2,1,2))\n",
    "model_arima_fit = model_arima.fit()\n",
    "print(model_arima_fit.summary())"
   ]
  },
  {
   "cell_type": "code",
   "execution_count": 60,
   "metadata": {},
   "outputs": [
    {
     "name": "stderr",
     "output_type": "stream",
     "text": [
      "C:\\Users\\ushak\\programming\\New folder\\lib\\site-packages\\statsmodels\\tsa\\statespace\\sarimax.py:966: UserWarning: Non-stationary starting autoregressive parameters found. Using zeros as starting parameters.\n",
      "  warn('Non-stationary starting autoregressive parameters'\n",
      "C:\\Users\\ushak\\programming\\New folder\\lib\\site-packages\\statsmodels\\tsa\\statespace\\sarimax.py:978: UserWarning: Non-invertible starting MA parameters found. Using zeros as starting parameters.\n",
      "  warn('Non-invertible starting MA parameters found.'\n"
     ]
    },
    {
     "name": "stdout",
     "output_type": "stream",
     "text": [
      "                               SARIMAX Results                                \n",
      "==============================================================================\n",
      "Dep. Variable:                      y   No. Observations:                 1445\n",
      "Model:                 ARIMA(2, 1, 1)   Log Likelihood              -10142.979\n",
      "Date:                Thu, 27 Apr 2023   AIC                          20293.959\n",
      "Time:                        19:36:05   BIC                          20315.059\n",
      "Sample:                             0   HQIC                         20301.835\n",
      "                               - 1445                                         \n",
      "Covariance Type:                  opg                                         \n",
      "==============================================================================\n",
      "                 coef    std err          z      P>|z|      [0.025      0.975]\n",
      "------------------------------------------------------------------------------\n",
      "ar.L1         -0.9881      0.041    -23.871      0.000      -1.069      -0.907\n",
      "ar.L2         -0.0267      0.018     -1.501      0.133      -0.062       0.008\n",
      "ma.L1          0.9334      0.040     23.393      0.000       0.855       1.012\n",
      "sigma2      7.406e+04   1178.869     62.820      0.000    7.17e+04    7.64e+04\n",
      "===================================================================================\n",
      "Ljung-Box (L1) (Q):                   0.48   Jarque-Bera (JB):              7395.26\n",
      "Prob(Q):                              0.49   Prob(JB):                         0.00\n",
      "Heteroskedasticity (H):               3.13   Skew:                            -0.43\n",
      "Prob(H) (two-sided):                  0.00   Kurtosis:                        14.05\n",
      "===================================================================================\n",
      "\n",
      "Warnings:\n",
      "[1] Covariance matrix calculated using the outer product of gradients (complex-step).\n"
     ]
    }
   ],
   "source": [
    "# model 2,1,1.(trial and error)\n",
    "model_arima = ARIMA(train['Prices'].values, order=(2,1,1))\n",
    "model_arima_fit = model_arima.fit()\n",
    "print(model_arima_fit.summary())"
   ]
  },
  {
   "cell_type": "code",
   "execution_count": 61,
   "metadata": {},
   "outputs": [
    {
     "name": "stderr",
     "output_type": "stream",
     "text": [
      "C:\\Users\\ushak\\programming\\New folder\\lib\\site-packages\\statsmodels\\tsa\\statespace\\sarimax.py:966: UserWarning: Non-stationary starting autoregressive parameters found. Using zeros as starting parameters.\n",
      "  warn('Non-stationary starting autoregressive parameters'\n",
      "C:\\Users\\ushak\\programming\\New folder\\lib\\site-packages\\statsmodels\\tsa\\statespace\\sarimax.py:978: UserWarning: Non-invertible starting MA parameters found. Using zeros as starting parameters.\n",
      "  warn('Non-invertible starting MA parameters found.'\n"
     ]
    },
    {
     "name": "stdout",
     "output_type": "stream",
     "text": [
      "                               SARIMAX Results                                \n",
      "==============================================================================\n",
      "Dep. Variable:                      y   No. Observations:                 1445\n",
      "Model:                 ARIMA(1, 1, 1)   Log Likelihood              -10143.412\n",
      "Date:                Thu, 27 Apr 2023   AIC                          20292.824\n",
      "Time:                        19:36:05   BIC                          20308.649\n",
      "Sample:                             0   HQIC                         20298.731\n",
      "                               - 1445                                         \n",
      "Covariance Type:                  opg                                         \n",
      "==============================================================================\n",
      "                 coef    std err          z      P>|z|      [0.025      0.975]\n",
      "------------------------------------------------------------------------------\n",
      "ar.L1         -0.9491      0.029    -32.442      0.000      -1.006      -0.892\n",
      "ma.L1          0.9151      0.036     25.336      0.000       0.844       0.986\n",
      "sigma2      7.405e+04   1161.480     63.757      0.000    7.18e+04    7.63e+04\n",
      "===================================================================================\n",
      "Ljung-Box (L1) (Q):                   0.01   Jarque-Bera (JB):              7611.03\n",
      "Prob(Q):                              0.91   Prob(JB):                         0.00\n",
      "Heteroskedasticity (H):               3.10   Skew:                            -0.46\n",
      "Prob(H) (two-sided):                  0.00   Kurtosis:                        14.21\n",
      "===================================================================================\n",
      "\n",
      "Warnings:\n",
      "[1] Covariance matrix calculated using the outer product of gradients (complex-step).\n"
     ]
    }
   ],
   "source": [
    "# model 1,1,1 (trial and error)\n",
    "model_arima = ARIMA(train['Prices'].values, order=(1,1,1))\n",
    "model_arima_fit = model_arima.fit()\n",
    "print(model_arima_fit.summary())"
   ]
  },
  {
   "cell_type": "code",
   "execution_count": 62,
   "metadata": {},
   "outputs": [
    {
     "name": "stdout",
     "output_type": "stream",
     "text": [
      "[50306.31877773 50321.67688965 50307.10001791 50320.93538979\n",
      " 50307.80379897 50320.26740883 50308.43780091 50319.66565746\n",
      " 50309.00894225 50319.12356907 50309.52345555 50318.63522816\n",
      " 50309.98695541 50318.19530572 50310.40449978 50317.79900111\n",
      " 50310.78064507 50317.44198966 50311.11949597 50317.12037552\n",
      " 50311.42475017 50316.83064906 50311.69973875 50316.56964867\n",
      " 50311.94746251 50316.33452618 50312.17062473 50316.12271582\n",
      " 50312.37166066 50315.93190624 50312.5527641  50315.76001521\n",
      " 50312.71591133 50315.605167   50312.86288269 50315.46567181\n",
      " 50312.995282   50315.34000742 50313.11455407 50315.22680252\n",
      " 50313.22200043 50315.12482176 50313.31879361 50315.03295228\n",
      " 50313.40598985 50314.95019156 50313.48454068 50314.87563647\n",
      " 50313.55530328 50314.80847344 50313.61904984 50314.74796955\n",
      " 50313.67647601 50314.69346456 50313.72820843 50314.64436368\n",
      " 50313.77481164 50314.60013109 50313.81679419 50314.56028412\n",
      " 50313.85461421 50314.52438793 50313.88868443 50314.49205081\n",
      " 50313.91937661 50314.46291988 50313.94702571 50314.43667725\n",
      " 50313.97193342 50314.41303655 50313.99437156 50314.39173979\n",
      " 50314.01458498 50314.37255459 50314.03279427 50314.35527158\n",
      " 50314.04919812 50314.33970216 50314.06397555 50314.32567643\n",
      " 50314.07728782 50314.31304134 50314.08928019 50314.301659\n",
      " 50314.10008352 50314.29140521 50314.10981572 50314.28216807\n",
      " 50314.11858298 50314.27384679 50314.12648098 50314.26635055\n",
      " 50314.1335959  50314.25959755 50314.14000538 50314.25351411\n",
      " 50314.14577937 50314.24803383 50314.15098088 50314.24309692\n",
      " 50314.15566666 50314.2386495  50314.15988785 50314.23464303\n",
      " 50314.16369051 50314.2310338  50314.16711615 50314.22778242\n",
      " 50314.17020213 50314.22485341 50314.17298215 50314.22221481\n",
      " 50314.17548653 50314.21983783 50314.1777426  50314.21769652\n",
      " 50314.17977499 50314.21576751 50314.18160586 50314.21402977\n",
      " 50314.18325521 50314.21246432 50314.18474103 50314.21105409\n",
      " 50314.18607953 50314.20978368 50314.18728531 50314.20863922\n",
      " 50314.18837155 50314.20760824 50314.18935009 50314.20667948\n",
      " 50314.1902316  50314.20584281 50314.19102572 50314.20508909\n",
      " 50314.1917411  50314.2044101  50314.19238555 50314.20379843\n",
      " 50314.1929661  50314.20324741 50314.19348909 50314.20275102\n",
      " 50314.19396023 50314.20230385 50314.19438466 50314.20190101\n",
      " 50314.194767   50314.20153812 50314.19511143 50314.20121121\n",
      " 50314.19542172 50314.2009167  50314.19570124 50314.2006514\n",
      " 50314.19595305 50314.20041241 50314.19617989 50314.2001971\n",
      " 50314.19638423 50314.20000315 50314.19656832 50314.19982843\n",
      " 50314.19673416 50314.19967103 50314.19688355 50314.19952923\n",
      " 50314.19701813 50314.1994015  50314.19713937 50314.19928643\n",
      " 50314.19724859 50314.19918277 50314.19734698 50314.19908938\n",
      " 50314.19743561 50314.19900526 50314.19751545 50314.19892947\n",
      " 50314.19758738 50314.1988612  50314.19765218 50314.1987997\n",
      " 50314.19771055 50314.1987443  50314.19776314 50314.19869439\n",
      " 50314.19781051 50314.19864943 50314.19785318 50314.19860892\n",
      " 50314.19789163 50314.19857244 50314.19792626 50314.19853957\n",
      " 50314.19795746 50314.19850996 50314.19798556 50314.19848328\n",
      " 50314.19801088 50314.19845925 50314.19803369 50314.1984376\n",
      " 50314.19805423 50314.1984181  50314.19807274 50314.19840053\n",
      " 50314.19808942 50314.19838471 50314.19810444 50314.19837045\n",
      " 50314.19811797 50314.19835761 50314.19813016 50314.19834604\n",
      " 50314.19814114 50314.19833561 50314.19815103 50314.19832623\n",
      " 50314.19815994 50314.19831777 50314.19816797 50314.19831015\n",
      " 50314.1981752  50314.19830328 50314.19818172 50314.1982971\n",
      " 50314.19818759 50314.19829153 50314.19819288 50314.19828651\n",
      " 50314.19819764 50314.19828199 50314.19820193 50314.19827792\n",
      " 50314.1982058  50314.19827425 50314.19820928 50314.19827094\n",
      " 50314.19821241 50314.19826797 50314.19821524 50314.19826528\n",
      " 50314.19821779 50314.19826287 50314.19822008 50314.19826069\n",
      " 50314.19822215 50314.19825873 50314.19822401 50314.19825696\n",
      " 50314.19822568 50314.19825537 50314.19822719 50314.19825394\n",
      " 50314.19822855 50314.19825265 50314.19822978 50314.19825149\n",
      " 50314.19823088 50314.19825044 50314.19823188 50314.19824949\n",
      " 50314.19823277 50314.19824864 50314.19823358 50314.19824788\n",
      " 50314.19823431 50314.19824719 50314.19823496 50314.19824656\n",
      " 50314.19823555 50314.198246   50314.19823609 50314.1982455\n",
      " 50314.19823656 50314.19824505 50314.198237   50314.19824464\n",
      " 50314.19823738 50314.19824427 50314.19823773 50314.19824393\n",
      " 50314.19823805 50314.19824364 50314.19823833 50314.19824337\n",
      " 50314.19823859 50314.19824312 50314.19823882 50314.1982429\n",
      " 50314.19823903 50314.19824271 50314.19823922 50314.19824253\n",
      " 50314.19823938 50314.19824237 50314.19823954 50314.19824222\n",
      " 50314.19823967 50314.1982421  50314.1982398  50314.19824198\n",
      " 50314.19823991 50314.19824187 50314.19824001 50314.19824178\n",
      " 50314.1982401  50314.19824169 50314.19824018 50314.19824162\n",
      " 50314.19824025 50314.19824155 50314.19824032 50314.19824148\n",
      " 50314.19824038 50314.19824143 50314.19824043 50314.19824138\n",
      " 50314.19824048 50314.19824133 50314.19824052 50314.19824129\n",
      " 50314.19824056 50314.19824125 50314.1982406  50314.19824122\n",
      " 50314.19824063 50314.19824119 50314.19824066 50314.19824116\n",
      " 50314.19824068 50314.19824114 50314.1982407  50314.19824112\n",
      " 50314.19824073 50314.1982411  50314.19824074 50314.19824108\n",
      " 50314.19824076 50314.19824106 50314.19824078 50314.19824105\n",
      " 50314.19824079 50314.19824103 50314.1982408  50314.19824102\n",
      " 50314.19824081 50314.19824101 50314.19824082 50314.198241\n",
      " 50314.19824083 50314.19824099 50314.19824084 50314.19824099\n",
      " 50314.19824085 50314.19824098 50314.19824086 50314.19824097\n",
      " 50314.19824086 50314.19824097 50314.19824087 50314.19824096\n",
      " 50314.19824087 50314.19824096 50314.19824088 50314.19824095\n",
      " 50314.19824088 50314.19824095 50314.19824088 50314.19824095\n",
      " 50314.19824089 50314.19824094 50314.19824089 50314.19824094\n",
      " 50314.19824089 50314.19824094 50314.19824089 50314.19824094\n",
      " 50314.1982409  50314.19824093 50314.1982409  50314.19824093\n",
      " 50314.1982409  50314.19824093 50314.1982409  50314.19824093\n",
      " 50314.1982409  50314.19824093 50314.1982409  50314.19824093\n",
      " 50314.19824091 50314.19824093 50314.19824091 50314.19824092\n",
      " 50314.19824091 50314.19824092 50314.19824091 50314.19824092\n",
      " 50314.19824091 50314.19824092 50314.19824091 50314.19824092\n",
      " 50314.19824091 50314.19824092 50314.19824091 50314.19824092\n",
      " 50314.19824091 50314.19824092 50314.19824091 50314.19824092\n",
      " 50314.19824091 50314.19824092 50314.19824091 50314.19824092\n",
      " 50314.19824091 50314.19824092 50314.19824091 50314.19824092\n",
      " 50314.19824091 50314.19824092 50314.19824091 50314.19824092\n",
      " 50314.19824091 50314.19824092 50314.19824091 50314.19824092\n",
      " 50314.19824091 50314.19824092 50314.19824091 50314.19824092\n",
      " 50314.19824091 50314.19824092 50314.19824091 50314.19824092\n",
      " 50314.19824091 50314.19824092 50314.19824091 50314.19824092\n",
      " 50314.19824091 50314.19824092 50314.19824091 50314.19824092\n",
      " 50314.19824091 50314.19824092 50314.19824091 50314.19824092\n",
      " 50314.19824091 50314.19824092 50314.19824091 50314.19824092\n",
      " 50314.19824091 50314.19824092 50314.19824091 50314.19824092\n",
      " 50314.19824091 50314.19824092 50314.19824091 50314.19824092\n",
      " 50314.19824092 50314.19824092 50314.19824092 50314.19824092\n",
      " 50314.19824092 50314.19824092 50314.19824092 50314.19824092\n",
      " 50314.19824092 50314.19824092 50314.19824092 50314.19824092\n",
      " 50314.19824092 50314.19824092 50314.19824092 50314.19824092\n",
      " 50314.19824092 50314.19824092 50314.19824092 50314.19824092\n",
      " 50314.19824092 50314.19824092 50314.19824092]\n"
     ]
    }
   ],
   "source": [
    "#(1,1,1) model fitting\n",
    "model_arima_forecast = model_arima_fit.forecast(steps = len(test))\n",
    "print(model_arima_forecast)"
   ]
  },
  {
   "cell_type": "code",
   "execution_count": 63,
   "metadata": {},
   "outputs": [
    {
     "data": {
      "image/png": "[encoded data removed]",
      "text/plain": [
       "<Figure size 1152x576 with 1 Axes>"
      ]
     },
     "metadata": {
      "needs_background": "light"
     },
     "output_type": "display_data"
    }
   ],
   "source": [
    "model_forecast= test.copy()\n",
    "model_forecast['model_arima_forecast']=model_arima_forecast\n",
    "plt.figure(figsize=(16,8))\n",
    "plt.plot( train['Prices'], label='Train')\n",
    "plt.plot(test['Prices'], label='Test',color='green')\n",
    "plt.plot(model_forecast['model_arima_forecast'], label='ARIMA',color='red')\n",
    "plt.legend(loc='best')\n",
    "plt.show()"
   ]
  },
  {
   "cell_type": "code",
   "execution_count": 64,
   "metadata": {},
   "outputs": [],
   "source": [
    "from sklearn import metrics"
   ]
  },
  {
   "cell_type": "code",
   "execution_count": 65,
   "metadata": {},
   "outputs": [],
   "source": [
    "def error_metrics(train_act,train_pred,test_act,test_pred):\n",
    "        print('*** Error metrics Train data ***')\n",
    "        print('MAE Train:', metrics.mean_absolute_error(train_act, train_pred))\n",
    "        print('MSE Train:', metrics.mean_squared_error(train_act, train_pred))\n",
    "        print('RMSE Train:', np.sqrt(metrics.mean_squared_error(train_act, train_pred)))\n",
    "        print('MAPE Train:', metrics.mean_absolute_percentage_error(train_act, train_pred))\n",
    "\n",
    "        print('***\\n Error metrics Test Data ***')\n",
    "\n",
    "        print('MAE Test:', metrics.mean_absolute_error(test_act,test_pred))\n",
    "        print('MSE Test:', metrics.mean_squared_error(test_act,test_pred))\n",
    "        print('RMSE Test:', np.sqrt(metrics.mean_squared_error(test_act,test_pred)))\n",
    "        print('MAPE Test:', metrics.mean_absolute_percentage_error(test_act,test_pred))\n",
    "        "
   ]
  },
  {
   "cell_type": "code",
   "execution_count": 66,
   "metadata": {},
   "outputs": [
    {
     "name": "stdout",
     "output_type": "stream",
     "text": [
      "*** Error metrics Train data ***\n",
      "MAE Train: 15807.335965509914\n",
      "MSE Train: 306731347.3383153\n",
      "RMSE Train: 17513.74738136631\n",
      "MAPE Train: 0.5195615323382899\n",
      "***\n",
      " Error metrics Test Data ***\n",
      "MAE Test: 1898.4779229282512\n",
      "MSE Test: 4959653.091279791\n",
      "RMSE Test: 2227.0278604633104\n",
      "MAPE Test: 0.039568156937150684\n"
     ]
    }
   ],
   "source": [
    "error_metrics(train['Prices'], model_arima_fit.forecast(steps = len(train)),test['Prices'], \n",
    "              model_arima_fit.forecast(steps=len(test)))\n"
   ]
  },
  {
   "cell_type": "code",
   "execution_count": 67,
   "metadata": {},
   "outputs": [
    {
     "data": {
      "text/html": [
       "<div>\n",
       "<style scoped>\n",
       "    .dataframe tbody tr th:only-of-type {\n",
       "        vertical-align: middle;\n",
       "    }\n",
       "\n",
       "    .dataframe tbody tr th {\n",
       "        vertical-align: top;\n",
       "    }\n",
       "\n",
       "    .dataframe thead th {\n",
       "        text-align: right;\n",
       "    }\n",
       "</style>\n",
       "<table border=\"1\" class=\"dataframe\">\n",
       "  <thead>\n",
       "    <tr style=\"text-align: right;\">\n",
       "      <th></th>\n",
       "      <th>date</th>\n",
       "      <th>Prices</th>\n",
       "      <th>time_seq</th>\n",
       "      <th>model_arima_forecast</th>\n",
       "    </tr>\n",
       "  </thead>\n",
       "  <tbody>\n",
       "    <tr>\n",
       "      <th>1445</th>\n",
       "      <td>2020-12-17</td>\n",
       "      <td>50650.000000</td>\n",
       "      <td>1446</td>\n",
       "      <td>50306.318778</td>\n",
       "    </tr>\n",
       "    <tr>\n",
       "      <th>1446</th>\n",
       "      <td>2020-12-18</td>\n",
       "      <td>50792.500000</td>\n",
       "      <td>1447</td>\n",
       "      <td>50321.676890</td>\n",
       "    </tr>\n",
       "    <tr>\n",
       "      <th>1447</th>\n",
       "      <td>2020-12-19</td>\n",
       "      <td>50893.333333</td>\n",
       "      <td>1448</td>\n",
       "      <td>50307.100018</td>\n",
       "    </tr>\n",
       "    <tr>\n",
       "      <th>1448</th>\n",
       "      <td>2020-12-20</td>\n",
       "      <td>50994.166667</td>\n",
       "      <td>1449</td>\n",
       "      <td>50320.935390</td>\n",
       "    </tr>\n",
       "    <tr>\n",
       "      <th>1449</th>\n",
       "      <td>2020-12-21</td>\n",
       "      <td>51095.000000</td>\n",
       "      <td>1450</td>\n",
       "      <td>50307.803799</td>\n",
       "    </tr>\n",
       "    <tr>\n",
       "      <th>...</th>\n",
       "      <td>...</td>\n",
       "      <td>...</td>\n",
       "      <td>...</td>\n",
       "      <td>...</td>\n",
       "    </tr>\n",
       "    <tr>\n",
       "      <th>1923</th>\n",
       "      <td>2022-04-09</td>\n",
       "      <td>52308.333333</td>\n",
       "      <td>1924</td>\n",
       "      <td>50314.198241</td>\n",
       "    </tr>\n",
       "    <tr>\n",
       "      <th>1924</th>\n",
       "      <td>2022-04-10</td>\n",
       "      <td>52404.166667</td>\n",
       "      <td>1925</td>\n",
       "      <td>50314.198241</td>\n",
       "    </tr>\n",
       "    <tr>\n",
       "      <th>1925</th>\n",
       "      <td>2022-04-11</td>\n",
       "      <td>52500.000000</td>\n",
       "      <td>1926</td>\n",
       "      <td>50314.198241</td>\n",
       "    </tr>\n",
       "    <tr>\n",
       "      <th>1926</th>\n",
       "      <td>2022-04-12</td>\n",
       "      <td>52562.500000</td>\n",
       "      <td>1927</td>\n",
       "      <td>50314.198241</td>\n",
       "    </tr>\n",
       "    <tr>\n",
       "      <th>1927</th>\n",
       "      <td>2022-04-13</td>\n",
       "      <td>52700.000000</td>\n",
       "      <td>1928</td>\n",
       "      <td>50314.198241</td>\n",
       "    </tr>\n",
       "  </tbody>\n",
       "</table>\n",
       "<p>483 rows × 4 columns</p>\n",
       "</div>"
      ],
      "text/plain": [
       "           date        Prices  time_seq  model_arima_forecast\n",
       "1445 2020-12-17  50650.000000      1446          50306.318778\n",
       "1446 2020-12-18  50792.500000      1447          50321.676890\n",
       "1447 2020-12-19  50893.333333      1448          50307.100018\n",
       "1448 2020-12-20  50994.166667      1449          50320.935390\n",
       "1449 2020-12-21  51095.000000      1450          50307.803799\n",
       "...         ...           ...       ...                   ...\n",
       "1923 2022-04-09  52308.333333      1924          50314.198241\n",
       "1924 2022-04-10  52404.166667      1925          50314.198241\n",
       "1925 2022-04-11  52500.000000      1926          50314.198241\n",
       "1926 2022-04-12  52562.500000      1927          50314.198241\n",
       "1927 2022-04-13  52700.000000      1928          50314.198241\n",
       "\n",
       "[483 rows x 4 columns]"
      ]
     },
     "execution_count": 67,
     "metadata": {},
     "output_type": "execute_result"
    }
   ],
   "source": [
    "model_forecast"
   ]
  },
  {
   "cell_type": "markdown",
   "metadata": {},
   "source": [
    "# auto arima"
   ]
  },
  {
   "cell_type": "code",
   "execution_count": 68,
   "metadata": {},
   "outputs": [],
   "source": [
    "from pmdarima.arima import auto_arima"
   ]
  },
  {
   "cell_type": "code",
   "execution_count": 69,
   "metadata": {},
   "outputs": [
    {
     "data": {
      "text/html": [
       "<table class=\"simpletable\">\n",
       "<caption>SARIMAX Results</caption>\n",
       "<tr>\n",
       "  <th>Dep. Variable:</th>           <td>y</td>        <th>  No. Observations:  </th>    <td>1445</td>   \n",
       "</tr>\n",
       "<tr>\n",
       "  <th>Model:</th>           <td>SARIMAX(1, 1, 1)</td> <th>  Log Likelihood     </th> <td>-10140.964</td>\n",
       "</tr>\n",
       "<tr>\n",
       "  <th>Date:</th>            <td>Thu, 27 Apr 2023</td> <th>  AIC                </th>  <td>20289.928</td>\n",
       "</tr>\n",
       "<tr>\n",
       "  <th>Time:</th>                <td>19:36:14</td>     <th>  BIC                </th>  <td>20311.028</td>\n",
       "</tr>\n",
       "<tr>\n",
       "  <th>Sample:</th>                  <td>0</td>        <th>  HQIC               </th>  <td>20297.803</td>\n",
       "</tr>\n",
       "<tr>\n",
       "  <th></th>                      <td> - 1445</td>     <th>                     </th>      <td> </td>    \n",
       "</tr>\n",
       "<tr>\n",
       "  <th>Covariance Type:</th>        <td>opg</td>       <th>                     </th>      <td> </td>    \n",
       "</tr>\n",
       "</table>\n",
       "<table class=\"simpletable\">\n",
       "<tr>\n",
       "      <td></td>         <th>coef</th>     <th>std err</th>      <th>z</th>      <th>P>|z|</th>  <th>[0.025</th>    <th>0.975]</th>  \n",
       "</tr>\n",
       "<tr>\n",
       "  <th>intercept</th> <td>   30.3004</td> <td>   13.876</td> <td>    2.184</td> <td> 0.029</td> <td>    3.104</td> <td>   57.497</td>\n",
       "</tr>\n",
       "<tr>\n",
       "  <th>ar.L1</th>     <td>   -0.9479</td> <td>    0.030</td> <td>  -31.956</td> <td> 0.000</td> <td>   -1.006</td> <td>   -0.890</td>\n",
       "</tr>\n",
       "<tr>\n",
       "  <th>ma.L1</th>     <td>    0.9132</td> <td>    0.037</td> <td>   25.019</td> <td> 0.000</td> <td>    0.842</td> <td>    0.985</td>\n",
       "</tr>\n",
       "<tr>\n",
       "  <th>sigma2</th>    <td>  7.38e+04</td> <td> 1156.861</td> <td>   63.792</td> <td> 0.000</td> <td> 7.15e+04</td> <td> 7.61e+04</td>\n",
       "</tr>\n",
       "</table>\n",
       "<table class=\"simpletable\">\n",
       "<tr>\n",
       "  <th>Ljung-Box (L1) (Q):</th>     <td>0.01</td> <th>  Jarque-Bera (JB):  </th> <td>7604.27</td>\n",
       "</tr>\n",
       "<tr>\n",
       "  <th>Prob(Q):</th>                <td>0.93</td> <th>  Prob(JB):          </th>  <td>0.00</td>  \n",
       "</tr>\n",
       "<tr>\n",
       "  <th>Heteroskedasticity (H):</th> <td>3.07</td> <th>  Skew:              </th>  <td>-0.46</td> \n",
       "</tr>\n",
       "<tr>\n",
       "  <th>Prob(H) (two-sided):</th>    <td>0.00</td> <th>  Kurtosis:          </th>  <td>14.21</td> \n",
       "</tr>\n",
       "</table><br/><br/>Warnings:<br/>[1] Covariance matrix calculated using the outer product of gradients (complex-step)."
      ],
      "text/plain": [
       "<class 'statsmodels.iolib.summary.Summary'>\n",
       "\"\"\"\n",
       "                               SARIMAX Results                                \n",
       "==============================================================================\n",
       "Dep. Variable:                      y   No. Observations:                 1445\n",
       "Model:               SARIMAX(1, 1, 1)   Log Likelihood              -10140.964\n",
       "Date:                Thu, 27 Apr 2023   AIC                          20289.928\n",
       "Time:                        19:36:14   BIC                          20311.028\n",
       "Sample:                             0   HQIC                         20297.803\n",
       "                               - 1445                                         \n",
       "Covariance Type:                  opg                                         \n",
       "==============================================================================\n",
       "                 coef    std err          z      P>|z|      [0.025      0.975]\n",
       "------------------------------------------------------------------------------\n",
       "intercept     30.3004     13.876      2.184      0.029       3.104      57.497\n",
       "ar.L1         -0.9479      0.030    -31.956      0.000      -1.006      -0.890\n",
       "ma.L1          0.9132      0.037     25.019      0.000       0.842       0.985\n",
       "sigma2       7.38e+04   1156.861     63.792      0.000    7.15e+04    7.61e+04\n",
       "===================================================================================\n",
       "Ljung-Box (L1) (Q):                   0.01   Jarque-Bera (JB):              7604.27\n",
       "Prob(Q):                              0.93   Prob(JB):                         0.00\n",
       "Heteroskedasticity (H):               3.07   Skew:                            -0.46\n",
       "Prob(H) (two-sided):                  0.00   Kurtosis:                        14.21\n",
       "===================================================================================\n",
       "\n",
       "Warnings:\n",
       "[1] Covariance matrix calculated using the outer product of gradients (complex-step).\n",
       "\"\"\""
      ]
     },
     "execution_count": 69,
     "metadata": {},
     "output_type": "execute_result"
    }
   ],
   "source": [
    "model = auto_arima(train.Prices, start_p=0, start_q=0)\n",
    "model.summary()"
   ]
  },
  {
   "cell_type": "code",
   "execution_count": 70,
   "metadata": {},
   "outputs": [
    {
     "name": "stdout",
     "output_type": "stream",
     "text": [
      "                                     SARIMAX Results                                      \n",
      "==========================================================================================\n",
      "Dep. Variable:                                  y   No. Observations:                 1445\n",
      "Model:             ARIMA(1, 1, 0)x(1, 1, [1], 12)   Log Likelihood              -10105.227\n",
      "Date:                            Thu, 27 Apr 2023   AIC                          20218.455\n",
      "Time:                                    19:36:18   BIC                          20239.522\n",
      "Sample:                                         0   HQIC                         20226.321\n",
      "                                           - 1445                                         \n",
      "Covariance Type:                              opg                                         \n",
      "==============================================================================\n",
      "                 coef    std err          z      P>|z|      [0.025      0.975]\n",
      "------------------------------------------------------------------------------\n",
      "ar.L1         -0.0564      0.013     -4.219      0.000      -0.083      -0.030\n",
      "ar.S.L12       0.0934      0.015      6.179      0.000       0.064       0.123\n",
      "ma.S.L12      -1.0000      0.016    -63.568      0.000      -1.031      -0.969\n",
      "sigma2      7.286e+04   2.16e-07   3.37e+11      0.000    7.29e+04    7.29e+04\n",
      "===================================================================================\n",
      "Ljung-Box (L1) (Q):                   0.09   Jarque-Bera (JB):              5827.75\n",
      "Prob(Q):                              0.77   Prob(JB):                         0.00\n",
      "Heteroskedasticity (H):               2.75   Skew:                            -0.39\n",
      "Prob(H) (two-sided):                  0.00   Kurtosis:                        12.85\n",
      "===================================================================================\n",
      "\n",
      "Warnings:\n",
      "[1] Covariance matrix calculated using the outer product of gradients (complex-step).\n",
      "[2] Covariance matrix is singular or near-singular, with condition number 2.14e+25. Standard errors may be unstable.\n"
     ]
    }
   ],
   "source": [
    "model_sarima=ARIMA(train['Prices'].values,order=(1,1,0),seasonal_order=(1,1,1,12))\n",
    "model_sarima_fit=model_sarima.fit()\n",
    "print(model_sarima_fit.summary())"
   ]
  },
  {
   "cell_type": "code",
   "execution_count": 72,
   "metadata": {},
   "outputs": [
    {
     "name": "stdout",
     "output_type": "stream",
     "text": [
      "[50319.04061169 50325.35694958 50341.9608316  50394.84460819\n",
      " 50415.0960921  50346.05679399 50391.48060239 50397.29327097\n",
      " 50402.6261892  50372.05985891 50407.38060795 50500.7991324\n",
      " 50529.12318306 50536.0272838  50555.99212251 50561.02378227\n",
      " 50602.55423346 50569.57495156 50625.08200553 50636.96564708\n",
      " 50648.32471561 50620.43049439 50652.74475893 50701.16946896\n",
      " 50732.4630237  50739.4220387  50759.7008892  50760.26175975\n",
      " 50803.78028971 50774.17006944 50830.61919387 50843.07004211\n",
      " 50854.99212957 50827.3475616  50859.38093243 50903.60190241\n",
      " 50935.1728958  50942.1370414  50962.4452298  50962.5883977\n",
      " 51006.29267244 50976.99722121 51033.53436261 51046.03820456\n",
      " 51058.01289448 51030.39165144 51062.39877856 51106.22699611\n",
      " 51137.82391039 51144.78853534 51165.09946476 51165.203607\n",
      " 51208.92523574 51179.65919315 51236.20455792 51248.71335104\n",
      " 51260.69295557 51233.07389175 51265.07856695 51308.87008991\n",
      " 51340.46942597 51347.4340957  51367.74528121 51367.84577731\n",
      " 51411.56902742 51382.30573247 51438.85186553 51451.36112124\n",
      " 51463.34118494 51435.72232472 51467.72677084 51511.51486546\n",
      " 51543.11442777 51550.07910169 51570.39031113 51570.49046657\n",
      " 51614.21386817 51584.95082992 51641.49703477 51654.00633369\n",
      " 51665.98644029 51638.3675991  51670.37202381 51714.15979812\n",
      " 51745.75938158 51752.72405589 51773.03526756 51773.13539118\n",
      " 51816.85880692 51787.59579266 51844.14200422 51856.65130718\n",
      " 51868.63141778 51841.01257837 51873.01700108 51916.80474547\n",
      " 51948.4043309  51955.36900524 51975.68021712 51975.78033777\n",
      " 52019.50375484 51990.24074282 52046.786955   52059.29625834\n",
      " 52071.27636932 52043.65753007 52075.6619526  52119.44969419\n",
      " 52151.0492798  52158.01395415 52178.32516605 52178.42528642\n",
      " 52222.14870361 52192.8856918  52249.43190404 52261.94120741\n",
      " 52273.92131843 52246.3024792  52278.3069017  52322.09464303\n",
      " 52353.69422866 52360.65890301 52380.97011491 52381.07023526\n",
      " 52424.79365246 52395.53064067 52452.07685291 52464.58615629\n",
      " 52476.56626731 52448.94742808 52480.95185058 52524.73959189\n",
      " 52556.33917752 52563.30385187 52583.61506377 52583.71518411\n",
      " 52627.43860132 52598.17558953 52654.72180177 52667.23110515\n",
      " 52679.21121617 52651.59237694 52683.59679945 52727.38454075\n",
      " 52758.98412638 52765.94880073 52786.26001263 52786.36013297\n",
      " 52830.08355018 52800.82053839 52857.36675063 52869.87605401\n",
      " 52881.85616503 52854.2373258  52886.2417483  52930.02948961\n",
      " 52961.62907524 52968.59374959 52988.90496149 52989.00508183\n",
      " 53032.72849904 53003.46548724 53060.01169949 53072.52100287\n",
      " 53084.50111389 53056.88227466 53088.88669716 53132.67443846\n",
      " 53164.2740241  53171.23869845 53191.54991035 53191.65003069\n",
      " 53235.37344789 53206.1104361  53262.65664835 53275.16595172\n",
      " 53287.14606275 53259.52722352 53291.53164602 53335.31938732\n",
      " 53366.91897296 53373.8836473  53394.19485921 53394.29497955\n",
      " 53438.01839675 53408.75538496 53465.30159721 53477.81090058\n",
      " 53489.7910116  53462.17217238 53494.17659488 53537.96433618\n",
      " 53569.56392182 53576.52859616 53596.83980807 53596.9399284\n",
      " 53640.66334561 53611.40033382 53667.94654607 53680.45584944\n",
      " 53692.43596046 53664.81712123 53696.82154374 53740.60928504\n",
      " 53772.20887068 53779.17354502 53799.48475692 53799.58487726\n",
      " 53843.30829447 53814.04528268 53870.59149492 53883.1007983\n",
      " 53895.08090932 53867.46207009 53899.4664926  53943.2542339\n",
      " 53974.85381953 53981.81849388 54002.12970578 54002.22982612\n",
      " 54045.95324333 54016.69023154 54073.23644378 54085.74574716\n",
      " 54097.72585818 54070.10701895 54102.11144146 54145.89918276\n",
      " 54177.49876839 54184.46344274 54204.77465464 54204.87477498\n",
      " 54248.59819219 54219.3351804  54275.88139264 54288.39069602\n",
      " 54300.37080704 54272.75196781 54304.75639031 54348.54413162\n",
      " 54380.14371725 54387.1083916  54407.4196035  54407.51972384\n",
      " 54451.24314105 54421.98012925 54478.5263415  54491.03564488\n",
      " 54503.0157559  54475.39691667 54507.40133917 54551.18908047\n",
      " 54582.78866611 54589.75334046 54610.06455236 54610.1646727\n",
      " 54653.8880899  54624.62507811 54681.17129036 54693.68059373\n",
      " 54705.66070476 54678.04186553 54710.04628803 54753.83402933\n",
      " 54785.43361497 54792.39828931 54812.70950122 54812.80962156\n",
      " 54856.53303876 54827.27002697 54883.81623922 54896.32554259\n",
      " 54908.30565361 54880.68681439 54912.69123689 54956.47897819\n",
      " 54988.07856383 54995.04323817 55015.35445008 55015.45457041\n",
      " 55059.17798762 55029.91497583 55086.46118808 55098.97049145\n",
      " 55110.95060247 55083.33176324 55115.33618575 55159.12392705\n",
      " 55190.72351269 55197.68818703 55217.99939893 55218.09951927\n",
      " 55261.82293648 55232.55992469 55289.10613693 55301.61544031\n",
      " 55313.59555133 55285.9767121  55317.98113461 55361.76887591\n",
      " 55393.36846154 55400.33313589 55420.64434779 55420.74446813\n",
      " 55464.46788534 55435.20487355 55491.75108579 55504.26038917\n",
      " 55516.24050019 55488.62166096 55520.62608347 55564.41382477\n",
      " 55596.0134104  55602.97808475 55623.28929665 55623.38941699\n",
      " 55667.1128342  55637.84982241 55694.39603465 55706.90533803\n",
      " 55718.88544905 55691.26660982 55723.27103232 55767.05877363\n",
      " 55798.65835926 55805.62303361 55825.93424551 55826.03436585\n",
      " 55869.75778306 55840.49477126 55897.04098351 55909.55028689\n",
      " 55921.53039791 55893.91155868 55925.91598118 55969.70372248\n",
      " 56001.30330812 56008.26798247 56028.57919437 56028.67931471\n",
      " 56072.40273191 56043.13972012 56099.68593237 56112.19523574\n",
      " 56124.17534677 56096.55650754 56128.56093004 56172.34867134\n",
      " 56203.94825698 56210.91293132 56231.22414323 56231.32426357\n",
      " 56275.04768077 56245.78466898 56302.33088123 56314.8401846\n",
      " 56326.82029562 56299.2014564  56331.2058789  56374.9936202\n",
      " 56406.59320584 56413.55788018 56433.86909209 56433.96921242\n",
      " 56477.69262963 56448.42961784 56504.97583009 56517.48513346\n",
      " 56529.46524448 56501.84640525 56533.85082776 56577.63856906\n",
      " 56609.2381547  56616.20282904 56636.51404094 56636.61416128\n",
      " 56680.33757849 56651.0745667  56707.62077894 56720.13008232\n",
      " 56732.11019334 56704.49135411 56736.49577662 56780.28351792\n",
      " 56811.88310355 56818.8477779  56839.1589898  56839.25911014\n",
      " 56882.98252735 56853.71951556 56910.2657278  56922.77503118\n",
      " 56934.7551422  56907.13630297 56939.14072548 56982.92846678\n",
      " 57014.52805241 57021.49272676 57041.80393866 57041.904059\n",
      " 57085.62747621 57056.36446442 57112.91067666 57125.41998004\n",
      " 57137.40009106 57109.78125183 57141.78567433 57185.57341564\n",
      " 57217.17300127 57224.13767562 57244.44888752 57244.54900786\n",
      " 57288.27242507 57259.00941327 57315.55562552 57328.0649289\n",
      " 57340.04503992 57312.42620069 57344.43062319 57388.21836449\n",
      " 57419.81795013 57426.78262448 57447.09383638 57447.19395672\n",
      " 57490.91737392 57461.65436213 57518.20057438 57530.70987775\n",
      " 57542.68998878 57515.07114955 57547.07557205 57590.86331335\n",
      " 57622.46289899 57629.42757333 57649.73878524 57649.83890558\n",
      " 57693.56232278 57664.29931099 57720.84552324 57733.35482661\n",
      " 57745.33493763 57717.71609841 57749.72052091 57793.50826221\n",
      " 57825.10784785 57832.07252219 57852.3837341  57852.48385443\n",
      " 57896.20727164 57866.94425985 57923.4904721  57935.99977547\n",
      " 57947.97988649 57920.36104726 57952.36546977 57996.15321107\n",
      " 58027.75279671 58034.71747105 58055.02868295 58055.12880329\n",
      " 58098.8522205  58069.58920871 58126.13542095 58138.64472433\n",
      " 58150.62483535 58123.00599612 58155.01041863 58198.79815993\n",
      " 58230.39774556 58237.36241991 58257.67363181 58257.77375215\n",
      " 58301.49716936 58272.23415757 58328.78036981 58341.28967319\n",
      " 58353.26978421 58325.65094498 58357.65536749 58401.44310879\n",
      " 58433.04269442 58440.00736877 58460.31858067]\n"
     ]
    }
   ],
   "source": [
    "model_sarima_forecast = model_sarima_fit.forecast(steps = len(test))\n",
    "print(model_sarima_forecast)"
   ]
  },
  {
   "cell_type": "code",
   "execution_count": 73,
   "metadata": {},
   "outputs": [
    {
     "data": {
      "image/png": "[encoded data removed]",
      "text/plain": [
       "<Figure size 1152x576 with 1 Axes>"
      ]
     },
     "metadata": {
      "needs_background": "light"
     },
     "output_type": "display_data"
    }
   ],
   "source": [
    "model_forecast= test.copy()\n",
    "model_forecast['SARIMA'] = model_sarima_forecast\n",
    "plt.figure(figsize=(16,8))\n",
    "plt.plot( train['Prices'], label='Train')\n",
    "plt.plot(test['Prices'], label='Test')\n",
    "plt.plot(model_forecast['SARIMA'], label='SARIMA')\n",
    "plt.legend()\n",
    "plt.show()"
   ]
  },
  {
   "cell_type": "code",
   "execution_count": 74,
   "metadata": {},
   "outputs": [
    {
     "data": {
      "text/html": [
       "<div>\n",
       "<style scoped>\n",
       "    .dataframe tbody tr th:only-of-type {\n",
       "        vertical-align: middle;\n",
       "    }\n",
       "\n",
       "    .dataframe tbody tr th {\n",
       "        vertical-align: top;\n",
       "    }\n",
       "\n",
       "    .dataframe thead th {\n",
       "        text-align: right;\n",
       "    }\n",
       "</style>\n",
       "<table border=\"1\" class=\"dataframe\">\n",
       "  <thead>\n",
       "    <tr style=\"text-align: right;\">\n",
       "      <th></th>\n",
       "      <th>date</th>\n",
       "      <th>Prices</th>\n",
       "      <th>time_seq</th>\n",
       "      <th>SARIMA</th>\n",
       "    </tr>\n",
       "  </thead>\n",
       "  <tbody>\n",
       "    <tr>\n",
       "      <th>1445</th>\n",
       "      <td>2020-12-17</td>\n",
       "      <td>50650.000000</td>\n",
       "      <td>1446</td>\n",
       "      <td>50319.040612</td>\n",
       "    </tr>\n",
       "    <tr>\n",
       "      <th>1446</th>\n",
       "      <td>2020-12-18</td>\n",
       "      <td>50792.500000</td>\n",
       "      <td>1447</td>\n",
       "      <td>50325.356950</td>\n",
       "    </tr>\n",
       "    <tr>\n",
       "      <th>1447</th>\n",
       "      <td>2020-12-19</td>\n",
       "      <td>50893.333333</td>\n",
       "      <td>1448</td>\n",
       "      <td>50341.960832</td>\n",
       "    </tr>\n",
       "    <tr>\n",
       "      <th>1448</th>\n",
       "      <td>2020-12-20</td>\n",
       "      <td>50994.166667</td>\n",
       "      <td>1449</td>\n",
       "      <td>50394.844608</td>\n",
       "    </tr>\n",
       "    <tr>\n",
       "      <th>1449</th>\n",
       "      <td>2020-12-21</td>\n",
       "      <td>51095.000000</td>\n",
       "      <td>1450</td>\n",
       "      <td>50415.096092</td>\n",
       "    </tr>\n",
       "    <tr>\n",
       "      <th>...</th>\n",
       "      <td>...</td>\n",
       "      <td>...</td>\n",
       "      <td>...</td>\n",
       "      <td>...</td>\n",
       "    </tr>\n",
       "    <tr>\n",
       "      <th>1923</th>\n",
       "      <td>2022-04-09</td>\n",
       "      <td>52308.333333</td>\n",
       "      <td>1924</td>\n",
       "      <td>58357.655367</td>\n",
       "    </tr>\n",
       "    <tr>\n",
       "      <th>1924</th>\n",
       "      <td>2022-04-10</td>\n",
       "      <td>52404.166667</td>\n",
       "      <td>1925</td>\n",
       "      <td>58401.443109</td>\n",
       "    </tr>\n",
       "    <tr>\n",
       "      <th>1925</th>\n",
       "      <td>2022-04-11</td>\n",
       "      <td>52500.000000</td>\n",
       "      <td>1926</td>\n",
       "      <td>58433.042694</td>\n",
       "    </tr>\n",
       "    <tr>\n",
       "      <th>1926</th>\n",
       "      <td>2022-04-12</td>\n",
       "      <td>52562.500000</td>\n",
       "      <td>1927</td>\n",
       "      <td>58440.007369</td>\n",
       "    </tr>\n",
       "    <tr>\n",
       "      <th>1927</th>\n",
       "      <td>2022-04-13</td>\n",
       "      <td>52700.000000</td>\n",
       "      <td>1928</td>\n",
       "      <td>58460.318581</td>\n",
       "    </tr>\n",
       "  </tbody>\n",
       "</table>\n",
       "<p>483 rows × 4 columns</p>\n",
       "</div>"
      ],
      "text/plain": [
       "           date        Prices  time_seq        SARIMA\n",
       "1445 2020-12-17  50650.000000      1446  50319.040612\n",
       "1446 2020-12-18  50792.500000      1447  50325.356950\n",
       "1447 2020-12-19  50893.333333      1448  50341.960832\n",
       "1448 2020-12-20  50994.166667      1449  50394.844608\n",
       "1449 2020-12-21  51095.000000      1450  50415.096092\n",
       "...         ...           ...       ...           ...\n",
       "1923 2022-04-09  52308.333333      1924  58357.655367\n",
       "1924 2022-04-10  52404.166667      1925  58401.443109\n",
       "1925 2022-04-11  52500.000000      1926  58433.042694\n",
       "1926 2022-04-12  52562.500000      1927  58440.007369\n",
       "1927 2022-04-13  52700.000000      1928  58460.318581\n",
       "\n",
       "[483 rows x 4 columns]"
      ]
     },
     "execution_count": 74,
     "metadata": {},
     "output_type": "execute_result"
    }
   ],
   "source": [
    "model_forecast"
   ]
  },
  {
   "cell_type": "markdown",
   "metadata": {},
   "source": [
    "# p=1,q=1,d=1 and P=1,D=1,Q=1,m=12"
   ]
  },
  {
   "cell_type": "code",
   "execution_count": 76,
   "metadata": {},
   "outputs": [
    {
     "name": "stderr",
     "output_type": "stream",
     "text": [
      "C:\\Users\\ushak\\programming\\New folder\\lib\\site-packages\\statsmodels\\tsa\\statespace\\sarimax.py:966: UserWarning: Non-stationary starting autoregressive parameters found. Using zeros as starting parameters.\n",
      "  warn('Non-stationary starting autoregressive parameters'\n",
      "C:\\Users\\ushak\\programming\\New folder\\lib\\site-packages\\statsmodels\\tsa\\statespace\\sarimax.py:978: UserWarning: Non-invertible starting MA parameters found. Using zeros as starting parameters.\n",
      "  warn('Non-invertible starting MA parameters found.'\n"
     ]
    },
    {
     "name": "stdout",
     "output_type": "stream",
     "text": [
      "                                    SARIMAX Results                                     \n",
      "========================================================================================\n",
      "Dep. Variable:                                y   No. Observations:                 1445\n",
      "Model:             ARIMA(1, 1, 1)x(1, 1, 1, 12)   Log Likelihood              -10109.100\n",
      "Date:                          Thu, 27 Apr 2023   AIC                          20228.200\n",
      "Time:                                  20:20:42   BIC                          20254.534\n",
      "Sample:                                       0   HQIC                         20238.033\n",
      "                                         - 1445                                         \n",
      "Covariance Type:                            opg                                         \n",
      "==============================================================================\n",
      "                 coef    std err          z      P>|z|      [0.025      0.975]\n",
      "------------------------------------------------------------------------------\n",
      "ar.L1         -0.9998      0.738     -1.354      0.176      -2.447       0.448\n",
      "ma.L1          0.9997      0.581      1.721      0.085      -0.139       2.138\n",
      "ar.S.L12       0.0986      0.016      6.137      0.000       0.067       0.130\n",
      "ma.S.L12      -1.0000      0.156     -6.403      0.000      -1.306      -0.694\n",
      "sigma2      7.784e+04   1.67e-06   4.67e+10      0.000    7.78e+04    7.78e+04\n",
      "===================================================================================\n",
      "Ljung-Box (L1) (Q):                   3.53   Jarque-Bera (JB):              6137.50\n",
      "Prob(Q):                              0.06   Prob(JB):                         0.00\n",
      "Heteroskedasticity (H):               2.64   Skew:                            -0.41\n",
      "Prob(H) (two-sided):                  0.00   Kurtosis:                        13.11\n",
      "===================================================================================\n",
      "\n",
      "Warnings:\n",
      "[1] Covariance matrix calculated using the outer product of gradients (complex-step).\n",
      "[2] Covariance matrix is singular or near-singular, with condition number 1.61e+27. Standard errors may be unstable.\n"
     ]
    }
   ],
   "source": [
    "model_sarima=ARIMA(train['Prices'].values,order=(1,1,1),seasonal_order=(1,1,1,12))\n",
    "model_sarima_fit=model_sarima.fit()\n",
    "print(model_sarima_fit.summary())"
   ]
  },
  {
   "cell_type": "markdown",
   "metadata": {},
   "source": [
    "# p=2,q=1,d=2 and P=1,D=0,Q=1,m=12"
   ]
  },
  {
   "cell_type": "code",
   "execution_count": 77,
   "metadata": {},
   "outputs": [
    {
     "name": "stdout",
     "output_type": "stream",
     "text": [
      "                                     SARIMAX Results                                      \n",
      "==========================================================================================\n",
      "Dep. Variable:                                  y   No. Observations:                 1445\n",
      "Model:             ARIMA(2, 1, 2)x(1, 0, [1], 12)   Log Likelihood              -10139.102\n",
      "Date:                            Thu, 27 Apr 2023   AIC                          20292.204\n",
      "Time:                                    20:20:49   BIC                          20329.130\n",
      "Sample:                                         0   HQIC                         20305.987\n",
      "                                           - 1445                                         \n",
      "Covariance Type:                              opg                                         \n",
      "==============================================================================\n",
      "                 coef    std err          z      P>|z|      [0.025      0.975]\n",
      "------------------------------------------------------------------------------\n",
      "ar.L1         -0.1853      0.233     -0.794      0.427      -0.643       0.272\n",
      "ar.L2          0.7288      0.202      3.605      0.000       0.332       1.125\n",
      "ma.L1          0.1377      0.231      0.597      0.550      -0.314       0.590\n",
      "ma.L2         -0.7244      0.189     -3.835      0.000      -1.095      -0.354\n",
      "ar.S.L12      -0.4914      0.238     -2.064      0.039      -0.958      -0.025\n",
      "ma.S.L12       0.5556      0.226      2.457      0.014       0.112       0.999\n",
      "sigma2      7.361e+04   1293.408     56.909      0.000    7.11e+04    7.61e+04\n",
      "===================================================================================\n",
      "Ljung-Box (L1) (Q):                   0.12   Jarque-Bera (JB):              6676.04\n",
      "Prob(Q):                              0.73   Prob(JB):                         0.00\n",
      "Heteroskedasticity (H):               3.13   Skew:                            -0.38\n",
      "Prob(H) (two-sided):                  0.00   Kurtosis:                        13.51\n",
      "===================================================================================\n",
      "\n",
      "Warnings:\n",
      "[1] Covariance matrix calculated using the outer product of gradients (complex-step).\n"
     ]
    }
   ],
   "source": [
    "model_sarima=ARIMA(train['Prices'].values,order=(2,1,2),seasonal_order=(1,0,1,12))\n",
    "model_sarima_fit=model_sarima.fit()\n",
    "print(model_sarima_fit.summary())"
   ]
  },
  {
   "cell_type": "markdown",
   "metadata": {},
   "source": [
    "# p=1,q=1,d=1 and P=1,D=0,Q=1,m=12"
   ]
  },
  {
   "cell_type": "code",
   "execution_count": 78,
   "metadata": {},
   "outputs": [
    {
     "name": "stderr",
     "output_type": "stream",
     "text": [
      "C:\\Users\\ushak\\programming\\New folder\\lib\\site-packages\\statsmodels\\tsa\\statespace\\sarimax.py:966: UserWarning: Non-stationary starting autoregressive parameters found. Using zeros as starting parameters.\n",
      "  warn('Non-stationary starting autoregressive parameters'\n",
      "C:\\Users\\ushak\\programming\\New folder\\lib\\site-packages\\statsmodels\\tsa\\statespace\\sarimax.py:978: UserWarning: Non-invertible starting MA parameters found. Using zeros as starting parameters.\n",
      "  warn('Non-invertible starting MA parameters found.'\n"
     ]
    },
    {
     "name": "stdout",
     "output_type": "stream",
     "text": [
      "                                    SARIMAX Results                                     \n",
      "========================================================================================\n",
      "Dep. Variable:                                y   No. Observations:                 1445\n",
      "Model:             ARIMA(1, 1, 1)x(1, 0, 1, 12)   Log Likelihood              -10139.729\n",
      "Date:                          Thu, 27 Apr 2023   AIC                          20289.459\n",
      "Time:                                  20:20:50   BIC                          20315.834\n",
      "Sample:                                       0   HQIC                         20299.303\n",
      "                                         - 1445                                         \n",
      "Covariance Type:                            opg                                         \n",
      "==============================================================================\n",
      "                 coef    std err          z      P>|z|      [0.025      0.975]\n",
      "------------------------------------------------------------------------------\n",
      "ar.L1         -0.9423      0.036    -26.132      0.000      -1.013      -0.872\n",
      "ma.L1          0.9096      0.043     21.310      0.000       0.826       0.993\n",
      "ar.S.L12      -0.4941      0.234     -2.111      0.035      -0.953      -0.035\n",
      "ma.S.L12       0.5566      0.223      2.493      0.013       0.119       0.994\n",
      "sigma2      7.343e+04   1226.249     59.883      0.000     7.1e+04    7.58e+04\n",
      "===================================================================================\n",
      "Ljung-Box (L1) (Q):                   0.03   Jarque-Bera (JB):              7008.39\n",
      "Prob(Q):                              0.86   Prob(JB):                         0.00\n",
      "Heteroskedasticity (H):               3.09   Skew:                            -0.41\n",
      "Prob(H) (two-sided):                  0.00   Kurtosis:                        13.76\n",
      "===================================================================================\n",
      "\n",
      "Warnings:\n",
      "[1] Covariance matrix calculated using the outer product of gradients (complex-step).\n"
     ]
    }
   ],
   "source": [
    "model_sarima=ARIMA(train['Prices'].values,order=(1,1,1),seasonal_order=(1,0,1,12))\n",
    "model_sarima_fit=model_sarima.fit()\n",
    "print(model_sarima_fit.summary())"
   ]
  },
  {
   "cell_type": "markdown",
   "metadata": {},
   "source": [
    "# (1,1,1)(1,0,1,12) model fitting sarima"
   ]
  },
  {
   "cell_type": "code",
   "execution_count": 79,
   "metadata": {},
   "outputs": [
    {
     "name": "stdout",
     "output_type": "stream",
     "text": [
      "[50305.15008095 50354.78384612 50362.24624454 50409.6275673\n",
      " 50382.5024296  50370.58033449 50361.47562277 50360.69709497\n",
      " 50354.34052931 50327.034594   50309.84515041 50371.41913104\n",
      " 50362.91062314 50354.48414448 50335.62946591 50326.51342459\n",
      " 50326.4456727  50345.02869053 50337.56600909 50349.22205793\n",
      " 50341.74101778 50365.24110227 50364.30160055 50342.76855085\n",
      " 50338.59633949 50350.65261194 50352.53000733 50364.04309717\n",
      " 50357.47147681 50354.51458756 50352.33617253 50352.1046428\n",
      " 50350.5921153  50343.88993341 50339.72873896 50354.72613096\n",
      " 50352.68005111 50350.59410496 50346.01908835 50343.76807475\n",
      " 50343.7758513  50348.28902387 50346.48898696 50349.31386309\n",
      " 50347.50692697 50353.22519207 50353.01288808 50347.74065921\n",
      " 50346.7373492  50349.66601785 50350.13771417 50352.93538836\n",
      " 50351.34318963 50350.61018155 50350.08902214 50350.02252826\n",
      " 50349.66272527 50348.01787268 50347.01048134 50350.66345286\n",
      " 50350.17142266 50349.65525928 50348.54508929 50347.98941563\n",
      " 50347.99716093 50349.0933093  50348.65911542 50349.34377029\n",
      " 50348.90731089 50350.29878538 50350.25105685 50348.96025558\n",
      " 50348.71898521 50349.43044223 50349.54881142 50350.22867658\n",
      " 50349.84289067 50349.66126256 50349.53659458 50349.51796411\n",
      " 50349.43239785 50349.02876119 50348.78486643 50349.67465891\n",
      " 50349.55633816 50349.42866324 50349.15925587 50349.02212471\n",
      " 50349.02542139 50349.29166448 50349.18692706 50349.3528736\n",
      " 50349.24744334 50349.58605521 50349.57538938 50349.25937896\n",
      " 50349.20135961 50349.37420119 50349.40387138 50349.5690937\n",
      " 50349.47561348 50349.43062858 50349.40080962 50349.39568496\n",
      " 50349.3753421  50349.27630264 50349.21725116 50349.4339931\n",
      " 50349.40553996 50349.37397066 50349.30858951 50349.2747572\n",
      " 50349.27590003 50349.34057092 50349.31530494 50349.35552928\n",
      " 50349.33006056 50349.41246392 50349.41009719 50349.33273641\n",
      " 50349.31878424 50349.36077646 50349.36820563 50349.40836018\n",
      " 50349.38570762 50349.37457062 50349.3674391  50349.36604943\n",
      " 50349.36121452 50349.33691593 50349.32261767 50349.37541462\n",
      " 50349.36857236 50349.36076918 50349.3449013  50349.33655661\n",
      " 50349.33691688 50349.35262632 50349.34653114 50349.3562818\n",
      " 50349.35012904 50349.37018315 50349.36966237 50349.35072507\n",
      " 50349.34736993 50349.35757252 50349.35943087 50349.36919022\n",
      " 50349.36370064 50349.36094454 50349.35923915 50349.35886657\n",
      " 50349.35771782 50349.35175694 50349.34829468 50349.36115602\n",
      " 50349.35951063 50349.35758252 50349.35373122 50349.35167354\n",
      " 50349.35178104 50349.35559726 50349.3541268  50349.35649056\n",
      " 50349.3550041  50349.35988474 50349.35977132 50349.35513585\n",
      " 50349.35432902 50349.356808   50349.35727242 50349.35964448\n",
      " 50349.35831407 50349.35763228 50349.35722451 50349.35712554\n",
      " 50349.35685269 50349.35539053 50349.35455211 50349.35768522\n",
      " 50349.35728954 50349.35681327 50349.35587847 50349.35537121\n",
      " 50349.35540215 50349.35632925 50349.35597449 50349.35654754\n",
      " 50349.35618841 50349.35737627 50349.35735188 50349.35621727\n",
      " 50349.35602324 50349.3566256  50349.35674156 50349.35731813\n",
      " 50349.35699569 50349.35682709 50349.3567296  50349.35670352\n",
      " 50349.35663873 50349.35628011 50349.35607706 50349.35684033\n",
      " 50349.35674518 50349.35662757 50349.35640066 50349.35627564\n",
      " 50349.35628432 50349.35650956 50349.35642397 50349.3565629\n",
      " 50349.35647613 50349.35676525 50349.35676008 50349.35648238\n",
      " 50349.35643572 50349.3565821  50349.35661103 50349.35675118\n",
      " 50349.35667302 50349.35663135 50349.35660804 50349.35660121\n",
      " 50349.35658583 50349.35649788 50349.35644871 50349.35663465\n",
      " 50349.35661177 50349.35658274 50349.35652766 50349.35649685\n",
      " 50349.35649924 50349.35655397 50349.35653332 50349.356567\n",
      " 50349.35654604 50349.35661641 50349.35661534 50349.35654737\n",
      " 50349.35653615 50349.35657172 50349.35657893 50349.356613\n",
      " 50349.35659406 50349.35658376 50349.35657819 50349.35657641\n",
      " 50349.35657276 50349.35655119 50349.35653928 50349.35658458\n",
      " 50349.35657908 50349.35657192 50349.35655855 50349.35655096\n",
      " 50349.35655161 50349.3565649  50349.35655992 50349.35656809\n",
      " 50349.35656302 50349.35658015 50349.35657993 50349.3565633\n",
      " 50349.3565606  50349.35656925 50349.35657104 50349.35657933\n",
      " 50349.35657473 50349.35657219 50349.35657086 50349.3565704\n",
      " 50349.35656953 50349.35656424 50349.35656136 50349.35657239\n",
      " 50349.35657107 50349.3565693  50349.35656606 50349.35656419\n",
      " 50349.35656436 50349.35656759 50349.35656639 50349.35656837\n",
      " 50349.35656715 50349.35657132 50349.35657128 50349.3565672\n",
      " 50349.35656656 50349.35656866 50349.3565691  50349.35657112\n",
      " 50349.35657    50349.35656938 50349.35656906 50349.35656894\n",
      " 50349.35656873 50349.35656744 50349.35656674 50349.35656943\n",
      " 50349.35656911 50349.35656867 50349.35656788 50349.35656742\n",
      " 50349.35656747 50349.35656826 50349.35656797 50349.35656845\n",
      " 50349.35656815 50349.35656917 50349.35656916 50349.35656816\n",
      " 50349.35656801 50349.35656852 50349.35656863 50349.35656912\n",
      " 50349.35656885 50349.35656869 50349.35656862 50349.35656859\n",
      " 50349.35656854 50349.35656822 50349.35656805 50349.3565687\n",
      " 50349.35656863 50349.35656852 50349.35656833 50349.35656822\n",
      " 50349.35656823 50349.35656842 50349.35656835 50349.35656847\n",
      " 50349.35656839 50349.35656864 50349.35656864 50349.3565684\n",
      " 50349.35656836 50349.35656848 50349.35656851 50349.35656863\n",
      " 50349.35656856 50349.35656853 50349.35656851 50349.3565685\n",
      " 50349.35656849 50349.35656841 50349.35656837 50349.35656853\n",
      " 50349.35656851 50349.35656848 50349.35656844 50349.35656841\n",
      " 50349.35656841 50349.35656846 50349.35656844 50349.35656847\n",
      " 50349.35656845 50349.35656851 50349.35656851 50349.35656845\n",
      " 50349.35656844 50349.35656847 50349.35656848 50349.35656851\n",
      " 50349.35656849 50349.35656849 50349.35656848 50349.35656848\n",
      " 50349.35656848 50349.35656846 50349.35656845 50349.35656849\n",
      " 50349.35656848 50349.35656848 50349.35656846 50349.35656846\n",
      " 50349.35656846 50349.35656847 50349.35656846 50349.35656847\n",
      " 50349.35656847 50349.35656848 50349.35656848 50349.35656847\n",
      " 50349.35656847 50349.35656847 50349.35656847 50349.35656848\n",
      " 50349.35656848 50349.35656848 50349.35656847 50349.35656847\n",
      " 50349.35656847 50349.35656847 50349.35656847 50349.35656848\n",
      " 50349.35656847 50349.35656847 50349.35656847 50349.35656847\n",
      " 50349.35656847 50349.35656847 50349.35656847 50349.35656847\n",
      " 50349.35656847 50349.35656847 50349.35656847 50349.35656847\n",
      " 50349.35656847 50349.35656847 50349.35656847 50349.35656847\n",
      " 50349.35656847 50349.35656847 50349.35656847 50349.35656847\n",
      " 50349.35656847 50349.35656847 50349.35656847 50349.35656847\n",
      " 50349.35656847 50349.35656847 50349.35656847 50349.35656847\n",
      " 50349.35656847 50349.35656847 50349.35656847 50349.35656847\n",
      " 50349.35656847 50349.35656847 50349.35656847 50349.35656847\n",
      " 50349.35656847 50349.35656847 50349.35656847 50349.35656847\n",
      " 50349.35656847 50349.35656847 50349.35656847 50349.35656847\n",
      " 50349.35656847 50349.35656847 50349.35656847 50349.35656847\n",
      " 50349.35656847 50349.35656847 50349.35656847 50349.35656847\n",
      " 50349.35656847 50349.35656847 50349.35656847 50349.35656847\n",
      " 50349.35656847 50349.35656847 50349.35656847 50349.35656847\n",
      " 50349.35656847 50349.35656847 50349.35656847 50349.35656847\n",
      " 50349.35656847 50349.35656847 50349.35656847 50349.35656847\n",
      " 50349.35656847 50349.35656847 50349.35656847 50349.35656847\n",
      " 50349.35656847 50349.35656847 50349.35656847 50349.35656847\n",
      " 50349.35656847 50349.35656847 50349.35656847 50349.35656847\n",
      " 50349.35656847 50349.35656847 50349.35656847 50349.35656847\n",
      " 50349.35656847 50349.35656847 50349.35656847]\n"
     ]
    }
   ],
   "source": [
    "model_sarima_forecast = model_sarima_fit.forecast(steps = len(test))\n",
    "print(model_sarima_forecast)"
   ]
  },
  {
   "cell_type": "code",
   "execution_count": 80,
   "metadata": {},
   "outputs": [
    {
     "data": {
      "image/png": "[encoded data removed]",
      "text/plain": [
       "<Figure size 1152x576 with 1 Axes>"
      ]
     },
     "metadata": {
      "needs_background": "light"
     },
     "output_type": "display_data"
    }
   ],
   "source": [
    "model_forecast['SARIMA'] = model_sarima_forecast\n",
    "plt.figure(figsize=(16,8))\n",
    "plt.plot( train['Prices'], label='Train')\n",
    "plt.plot(test['Prices'], label='Test')\n",
    "plt.plot(model_forecast['SARIMA'], label='SARIMA')\n",
    "plt.legend()\n",
    "plt.show()"
   ]
  },
  {
   "cell_type": "code",
   "execution_count": 81,
   "metadata": {},
   "outputs": [
    {
     "name": "stdout",
     "output_type": "stream",
     "text": [
      "*** Error metrics Train data ***\n",
      "MAE Train: 15836.972013330846\n",
      "MSE Train: 307828925.66608137\n",
      "RMSE Train: 17545.054165378955\n",
      "MAPE Train: 0.5205143017732609\n",
      "***\n",
      " Error metrics Test Data ***\n",
      "MAE Test: 1921.9309043897506\n",
      "MSE Test: 5064811.427569063\n",
      "RMSE Test: 2250.5135919538598\n",
      "MAPE Test: 0.04006195897948982\n"
     ]
    }
   ],
   "source": [
    "error_metrics(train['Prices'], model_sarima_fit.forecast(steps=len(train)),test['Prices'], \n",
    "              model_sarima_fit.forecast(steps=len(test)))"
   ]
  },
  {
   "cell_type": "code",
   "execution_count": 82,
   "metadata": {},
   "outputs": [
    {
     "data": {
      "image/png": "[encoded data removed]",
      "text/plain": [
       "<Figure size 432x288 with 2 Axes>"
      ]
     },
     "metadata": {
      "needs_background": "light"
     },
     "output_type": "display_data"
    }
   ],
   "source": [
    "# Plot residual errors\n",
    "residuals = pd.DataFrame(model_sarima_fit.resid)\n",
    "fig, ax = plt.subplots(1,2)\n",
    "residuals.plot(title=\"Residuals\", ax=ax[0])\n",
    "residuals.plot(kind='kde', title='Density', ax=ax[1])\n",
    "plt.show()\n"
   ]
  },
  {
   "cell_type": "code",
   "execution_count": 83,
   "metadata": {},
   "outputs": [
    {
     "data": {
      "text/html": [
       "<div>\n",
       "<style scoped>\n",
       "    .dataframe tbody tr th:only-of-type {\n",
       "        vertical-align: middle;\n",
       "    }\n",
       "\n",
       "    .dataframe tbody tr th {\n",
       "        vertical-align: top;\n",
       "    }\n",
       "\n",
       "    .dataframe thead th {\n",
       "        text-align: right;\n",
       "    }\n",
       "</style>\n",
       "<table border=\"1\" class=\"dataframe\">\n",
       "  <thead>\n",
       "    <tr style=\"text-align: right;\">\n",
       "      <th></th>\n",
       "      <th>date</th>\n",
       "      <th>Prices</th>\n",
       "      <th>time_seq</th>\n",
       "      <th>SARIMA</th>\n",
       "    </tr>\n",
       "  </thead>\n",
       "  <tbody>\n",
       "    <tr>\n",
       "      <th>1445</th>\n",
       "      <td>2020-12-17</td>\n",
       "      <td>50650.000000</td>\n",
       "      <td>1446</td>\n",
       "      <td>50305.150081</td>\n",
       "    </tr>\n",
       "    <tr>\n",
       "      <th>1446</th>\n",
       "      <td>2020-12-18</td>\n",
       "      <td>50792.500000</td>\n",
       "      <td>1447</td>\n",
       "      <td>50354.783846</td>\n",
       "    </tr>\n",
       "    <tr>\n",
       "      <th>1447</th>\n",
       "      <td>2020-12-19</td>\n",
       "      <td>50893.333333</td>\n",
       "      <td>1448</td>\n",
       "      <td>50362.246245</td>\n",
       "    </tr>\n",
       "    <tr>\n",
       "      <th>1448</th>\n",
       "      <td>2020-12-20</td>\n",
       "      <td>50994.166667</td>\n",
       "      <td>1449</td>\n",
       "      <td>50409.627567</td>\n",
       "    </tr>\n",
       "    <tr>\n",
       "      <th>1449</th>\n",
       "      <td>2020-12-21</td>\n",
       "      <td>51095.000000</td>\n",
       "      <td>1450</td>\n",
       "      <td>50382.502430</td>\n",
       "    </tr>\n",
       "    <tr>\n",
       "      <th>...</th>\n",
       "      <td>...</td>\n",
       "      <td>...</td>\n",
       "      <td>...</td>\n",
       "      <td>...</td>\n",
       "    </tr>\n",
       "    <tr>\n",
       "      <th>1923</th>\n",
       "      <td>2022-04-09</td>\n",
       "      <td>52308.333333</td>\n",
       "      <td>1924</td>\n",
       "      <td>50349.356568</td>\n",
       "    </tr>\n",
       "    <tr>\n",
       "      <th>1924</th>\n",
       "      <td>2022-04-10</td>\n",
       "      <td>52404.166667</td>\n",
       "      <td>1925</td>\n",
       "      <td>50349.356568</td>\n",
       "    </tr>\n",
       "    <tr>\n",
       "      <th>1925</th>\n",
       "      <td>2022-04-11</td>\n",
       "      <td>52500.000000</td>\n",
       "      <td>1926</td>\n",
       "      <td>50349.356568</td>\n",
       "    </tr>\n",
       "    <tr>\n",
       "      <th>1926</th>\n",
       "      <td>2022-04-12</td>\n",
       "      <td>52562.500000</td>\n",
       "      <td>1927</td>\n",
       "      <td>50349.356568</td>\n",
       "    </tr>\n",
       "    <tr>\n",
       "      <th>1927</th>\n",
       "      <td>2022-04-13</td>\n",
       "      <td>52700.000000</td>\n",
       "      <td>1928</td>\n",
       "      <td>50349.356568</td>\n",
       "    </tr>\n",
       "  </tbody>\n",
       "</table>\n",
       "<p>483 rows × 4 columns</p>\n",
       "</div>"
      ],
      "text/plain": [
       "           date        Prices  time_seq        SARIMA\n",
       "1445 2020-12-17  50650.000000      1446  50305.150081\n",
       "1446 2020-12-18  50792.500000      1447  50354.783846\n",
       "1447 2020-12-19  50893.333333      1448  50362.246245\n",
       "1448 2020-12-20  50994.166667      1449  50409.627567\n",
       "1449 2020-12-21  51095.000000      1450  50382.502430\n",
       "...         ...           ...       ...           ...\n",
       "1923 2022-04-09  52308.333333      1924  50349.356568\n",
       "1924 2022-04-10  52404.166667      1925  50349.356568\n",
       "1925 2022-04-11  52500.000000      1926  50349.356568\n",
       "1926 2022-04-12  52562.500000      1927  50349.356568\n",
       "1927 2022-04-13  52700.000000      1928  50349.356568\n",
       "\n",
       "[483 rows x 4 columns]"
      ]
     },
     "execution_count": 83,
     "metadata": {},
     "output_type": "execute_result"
    }
   ],
   "source": [
    "model_forecast"
   ]
  },
  {
   "cell_type": "markdown",
   "metadata": {},
   "source": [
    "# (1,1,1) (0,1,1,7)"
   ]
  },
  {
   "cell_type": "code",
   "execution_count": 84,
   "metadata": {},
   "outputs": [
    {
     "name": "stderr",
     "output_type": "stream",
     "text": [
      "C:\\Users\\ushak\\programming\\New folder\\lib\\site-packages\\statsmodels\\tsa\\statespace\\sarimax.py:966: UserWarning: Non-stationary starting autoregressive parameters found. Using zeros as starting parameters.\n",
      "  warn('Non-stationary starting autoregressive parameters'\n",
      "C:\\Users\\ushak\\programming\\New folder\\lib\\site-packages\\statsmodels\\tsa\\statespace\\sarimax.py:978: UserWarning: Non-invertible starting MA parameters found. Using zeros as starting parameters.\n",
      "  warn('Non-invertible starting MA parameters found.'\n"
     ]
    },
    {
     "name": "stdout",
     "output_type": "stream",
     "text": [
      "                                    SARIMAX Results                                    \n",
      "=======================================================================================\n",
      "Dep. Variable:                               y   No. Observations:                 1445\n",
      "Model:             ARIMA(1, 1, 1)x(0, 1, 1, 7)   Log Likelihood              -10132.140\n",
      "Date:                         Thu, 27 Apr 2023   AIC                          20272.280\n",
      "Time:                                 20:21:13   BIC                          20293.361\n",
      "Sample:                                      0   HQIC                         20280.150\n",
      "                                        - 1445                                         \n",
      "Covariance Type:                           opg                                         \n",
      "==============================================================================\n",
      "                 coef    std err          z      P>|z|      [0.025      0.975]\n",
      "------------------------------------------------------------------------------\n",
      "ar.L1         -0.9490      0.030    -31.244      0.000      -1.009      -0.889\n",
      "ma.L1          0.9213      0.037     24.829      0.000       0.849       0.994\n",
      "ma.S.L7       -0.9999      0.206     -4.854      0.000      -1.404      -0.596\n",
      "sigma2      7.205e+04   1.46e+04      4.934      0.000    4.34e+04    1.01e+05\n",
      "===================================================================================\n",
      "Ljung-Box (L1) (Q):                   0.62   Jarque-Bera (JB):              6931.94\n",
      "Prob(Q):                              0.43   Prob(JB):                         0.00\n",
      "Heteroskedasticity (H):               2.54   Skew:                            -0.41\n",
      "Prob(H) (two-sided):                  0.00   Kurtosis:                        13.73\n",
      "===================================================================================\n",
      "\n",
      "Warnings:\n",
      "[1] Covariance matrix calculated using the outer product of gradients (complex-step).\n"
     ]
    }
   ],
   "source": [
    "model_sarima=ARIMA(train['Prices'].values,order=(1,1,1),seasonal_order=(0,1,1,7))\n",
    "model_sarima_fit=model_sarima.fit()\n",
    "print(model_sarima_fit.summary())"
   ]
  },
  {
   "cell_type": "markdown",
   "metadata": {},
   "source": [
    "# (1,1,1)(1,1,1,7)"
   ]
  },
  {
   "cell_type": "code",
   "execution_count": 85,
   "metadata": {},
   "outputs": [
    {
     "name": "stderr",
     "output_type": "stream",
     "text": [
      "C:\\Users\\ushak\\programming\\New folder\\lib\\site-packages\\statsmodels\\tsa\\statespace\\sarimax.py:966: UserWarning: Non-stationary starting autoregressive parameters found. Using zeros as starting parameters.\n",
      "  warn('Non-stationary starting autoregressive parameters'\n",
      "C:\\Users\\ushak\\programming\\New folder\\lib\\site-packages\\statsmodels\\tsa\\statespace\\sarimax.py:978: UserWarning: Non-invertible starting MA parameters found. Using zeros as starting parameters.\n",
      "  warn('Non-invertible starting MA parameters found.'\n"
     ]
    },
    {
     "name": "stdout",
     "output_type": "stream",
     "text": [
      "                                    SARIMAX Results                                    \n",
      "=======================================================================================\n",
      "Dep. Variable:                               y   No. Observations:                 1445\n",
      "Model:             ARIMA(1, 1, 1)x(1, 1, 1, 7)   Log Likelihood              -10138.641\n",
      "Date:                         Thu, 27 Apr 2023   AIC                          20287.283\n",
      "Time:                                 20:21:15   BIC                          20313.634\n",
      "Sample:                                      0   HQIC                         20297.121\n",
      "                                        - 1445                                         \n",
      "Covariance Type:                           opg                                         \n",
      "==============================================================================\n",
      "                 coef    std err          z      P>|z|      [0.025      0.975]\n",
      "------------------------------------------------------------------------------\n",
      "ar.L1         -0.9999      0.077    -12.952      0.000      -1.151      -0.849\n",
      "ma.L1          0.9999      0.080     12.523      0.000       0.843       1.156\n",
      "ar.S.L7       -0.0199      0.015     -1.339      0.180      -0.049       0.009\n",
      "ma.S.L7       -1.0000      0.016    -63.737      0.000      -1.031      -0.969\n",
      "sigma2      7.271e+04   2.23e-07   3.26e+11      0.000    7.27e+04    7.27e+04\n",
      "===================================================================================\n",
      "Ljung-Box (L1) (Q):                   4.31   Jarque-Bera (JB):              7401.91\n",
      "Prob(Q):                              0.04   Prob(JB):                         0.00\n",
      "Heteroskedasticity (H):               2.51   Skew:                            -0.42\n",
      "Prob(H) (two-sided):                  0.00   Kurtosis:                        14.09\n",
      "===================================================================================\n",
      "\n",
      "Warnings:\n",
      "[1] Covariance matrix calculated using the outer product of gradients (complex-step).\n",
      "[2] Covariance matrix is singular or near-singular, with condition number 1.69e+27. Standard errors may be unstable.\n"
     ]
    }
   ],
   "source": [
    "model_sarima=ARIMA(train['Prices'].values,order=(1,1,1),seasonal_order=(1,1,1,7))\n",
    "model_sarima_fit=model_sarima.fit()\n",
    "print(model_sarima_fit.summary())"
   ]
  },
  {
   "cell_type": "markdown",
   "metadata": {},
   "source": [
    "# (1,1,1)(1,1,0)"
   ]
  },
  {
   "cell_type": "code",
   "execution_count": 86,
   "metadata": {},
   "outputs": [
    {
     "name": "stderr",
     "output_type": "stream",
     "text": [
      "C:\\Users\\ushak\\programming\\New folder\\lib\\site-packages\\statsmodels\\tsa\\statespace\\sarimax.py:966: UserWarning: Non-stationary starting autoregressive parameters found. Using zeros as starting parameters.\n",
      "  warn('Non-stationary starting autoregressive parameters'\n",
      "C:\\Users\\ushak\\programming\\New folder\\lib\\site-packages\\statsmodels\\tsa\\statespace\\sarimax.py:978: UserWarning: Non-invertible starting MA parameters found. Using zeros as starting parameters.\n",
      "  warn('Non-invertible starting MA parameters found.'\n"
     ]
    },
    {
     "name": "stdout",
     "output_type": "stream",
     "text": [
      "                                    SARIMAX Results                                     \n",
      "========================================================================================\n",
      "Dep. Variable:                                y   No. Observations:                 1445\n",
      "Model:             ARIMA(1, 1, 1)x(1, 1, [], 7)   Log Likelihood              -10377.266\n",
      "Date:                          Thu, 27 Apr 2023   AIC                          20762.533\n",
      "Time:                                  20:21:17   BIC                          20783.614\n",
      "Sample:                                       0   HQIC                         20770.403\n",
      "                                         - 1445                                         \n",
      "Covariance Type:                            opg                                         \n",
      "==============================================================================\n",
      "                 coef    std err          z      P>|z|      [0.025      0.975]\n",
      "------------------------------------------------------------------------------\n",
      "ar.L1         -0.9986      0.005   -197.220      0.000      -1.009      -0.989\n",
      "ma.L1          0.9976      0.006    158.849      0.000       0.985       1.010\n",
      "ar.S.L7       -0.5252      0.011    -48.439      0.000      -0.546      -0.504\n",
      "sigma2      1.066e+05   1886.841     56.476      0.000    1.03e+05     1.1e+05\n",
      "===================================================================================\n",
      "Ljung-Box (L1) (Q):                   0.73   Jarque-Bera (JB):              3552.65\n",
      "Prob(Q):                              0.39   Prob(JB):                         0.00\n",
      "Heteroskedasticity (H):               2.52   Skew:                            -0.12\n",
      "Prob(H) (two-sided):                  0.00   Kurtosis:                        10.70\n",
      "===================================================================================\n",
      "\n",
      "Warnings:\n",
      "[1] Covariance matrix calculated using the outer product of gradients (complex-step).\n"
     ]
    }
   ],
   "source": [
    "model_sarima=ARIMA(train['Prices'].values,order=(1,1,1),seasonal_order=(1,1,0,7))\n",
    "model_sarima_fit=model_sarima.fit()\n",
    "print(model_sarima_fit.summary())"
   ]
  },
  {
   "cell_type": "markdown",
   "metadata": {},
   "source": [
    "# (1,1,1)(1,1,0,7)"
   ]
  },
  {
   "cell_type": "code",
   "execution_count": 87,
   "metadata": {},
   "outputs": [
    {
     "name": "stderr",
     "output_type": "stream",
     "text": [
      "C:\\Users\\ushak\\programming\\New folder\\lib\\site-packages\\statsmodels\\tsa\\statespace\\sarimax.py:966: UserWarning: Non-stationary starting autoregressive parameters found. Using zeros as starting parameters.\n",
      "  warn('Non-stationary starting autoregressive parameters'\n",
      "C:\\Users\\ushak\\programming\\New folder\\lib\\site-packages\\statsmodels\\tsa\\statespace\\sarimax.py:978: UserWarning: Non-invertible starting MA parameters found. Using zeros as starting parameters.\n",
      "  warn('Non-invertible starting MA parameters found.'\n"
     ]
    },
    {
     "name": "stdout",
     "output_type": "stream",
     "text": [
      "                                    SARIMAX Results                                     \n",
      "========================================================================================\n",
      "Dep. Variable:                                y   No. Observations:                 1445\n",
      "Model:             ARIMA(1, 1, 1)x(1, 1, [], 7)   Log Likelihood              -10377.266\n",
      "Date:                          Thu, 27 Apr 2023   AIC                          20762.533\n",
      "Time:                                  20:21:21   BIC                          20783.614\n",
      "Sample:                                       0   HQIC                         20770.403\n",
      "                                         - 1445                                         \n",
      "Covariance Type:                            opg                                         \n",
      "==============================================================================\n",
      "                 coef    std err          z      P>|z|      [0.025      0.975]\n",
      "------------------------------------------------------------------------------\n",
      "ar.L1         -0.9986      0.005   -197.220      0.000      -1.009      -0.989\n",
      "ma.L1          0.9976      0.006    158.849      0.000       0.985       1.010\n",
      "ar.S.L7       -0.5252      0.011    -48.439      0.000      -0.546      -0.504\n",
      "sigma2      1.066e+05   1886.841     56.476      0.000    1.03e+05     1.1e+05\n",
      "===================================================================================\n",
      "Ljung-Box (L1) (Q):                   0.73   Jarque-Bera (JB):              3552.65\n",
      "Prob(Q):                              0.39   Prob(JB):                         0.00\n",
      "Heteroskedasticity (H):               2.52   Skew:                            -0.12\n",
      "Prob(H) (two-sided):                  0.00   Kurtosis:                        10.70\n",
      "===================================================================================\n",
      "\n",
      "Warnings:\n",
      "[1] Covariance matrix calculated using the outer product of gradients (complex-step).\n"
     ]
    }
   ],
   "source": [
    "model_sarima=ARIMA(train['Prices'].values,order=(1,1,1),seasonal_order=(1,1,0,7))\n",
    "model_sarima_fit=model_sarima.fit()\n",
    "print(model_sarima_fit.summary())"
   ]
  },
  {
   "cell_type": "markdown",
   "metadata": {},
   "source": [
    "# (1,1,1)(1,2,1,7)"
   ]
  },
  {
   "cell_type": "code",
   "execution_count": 88,
   "metadata": {},
   "outputs": [
    {
     "name": "stdout",
     "output_type": "stream",
     "text": [
      "                                    SARIMAX Results                                    \n",
      "=======================================================================================\n",
      "Dep. Variable:                               y   No. Observations:                 1445\n",
      "Model:             ARIMA(1, 1, 1)x(1, 2, 1, 7)   Log Likelihood              -10378.981\n",
      "Date:                         Thu, 27 Apr 2023   AIC                          20767.963\n",
      "Time:                                 20:21:32   BIC                          20794.290\n",
      "Sample:                                      0   HQIC                         20777.794\n",
      "                                        - 1445                                         \n",
      "Covariance Type:                           opg                                         \n",
      "==============================================================================\n",
      "                 coef    std err          z      P>|z|      [0.025      0.975]\n",
      "------------------------------------------------------------------------------\n",
      "ar.L1         -0.9991      0.005   -193.888      0.000      -1.009      -0.989\n",
      "ma.L1          0.9984      0.007    152.702      0.000       0.986       1.011\n",
      "ar.S.L7       -0.5148      0.011    -49.027      0.000      -0.535      -0.494\n",
      "ma.S.L7       -1.0000      0.018    -56.709      0.000      -1.035      -0.965\n",
      "sigma2      1.072e+05   1.64e-07   6.52e+11      0.000    1.07e+05    1.07e+05\n",
      "===================================================================================\n",
      "Ljung-Box (L1) (Q):                   1.86   Jarque-Bera (JB):              4060.60\n",
      "Prob(Q):                              0.17   Prob(JB):                         0.00\n",
      "Heteroskedasticity (H):               2.08   Skew:                             0.11\n",
      "Prob(H) (two-sided):                  0.00   Kurtosis:                        11.25\n",
      "===================================================================================\n",
      "\n",
      "Warnings:\n",
      "[1] Covariance matrix calculated using the outer product of gradients (complex-step).\n",
      "[2] Covariance matrix is singular or near-singular, with condition number 5.43e+25. Standard errors may be unstable.\n"
     ]
    }
   ],
   "source": [
    "model_sarima=ARIMA(train['Prices'].values,order=(1,1,1),seasonal_order=(1,2,1,7))\n",
    "model_sarima_fit=model_sarima.fit()\n",
    "print(model_sarima_fit.summary())"
   ]
  },
  {
   "cell_type": "code",
   "execution_count": null,
   "metadata": {},
   "outputs": [],
   "source": []
  },
  {
   "cell_type": "code",
   "execution_count": null,
   "metadata": {},
   "outputs": [],
   "source": []
  },
  {
   "cell_type": "code",
   "execution_count": null,
   "metadata": {},
   "outputs": [],
   "source": []
  },
  {
   "cell_type": "code",
   "execution_count": null,
   "metadata": {},
   "outputs": [],
   "source": []
  },
  {
   "cell_type": "code",
   "execution_count": null,
   "metadata": {},
   "outputs": [],
   "source": []
  },
  {
   "cell_type": "code",
   "execution_count": null,
   "metadata": {},
   "outputs": [],
   "source": []
  },
  {
   "cell_type": "code",
   "execution_count": null,
   "metadata": {},
   "outputs": [],
   "source": []
  },
  {
   "cell_type": "code",
   "execution_count": null,
   "metadata": {},
   "outputs": [],
   "source": []
  }
 ],
 "metadata": {
  "kernelspec": {
   "display_name": "Python 3",
   "language": "python",
   "name": "python3"
  },
  "language_info": {
   "codemirror_mode": {
    "name": "ipython",
    "version": 3
   },
   "file_extension": ".py",
   "mimetype": "text/x-python",
   "name": "python",
   "nbconvert_exporter": "python",
   "pygments_lexer": "ipython3",
   "version": "3.6.5"
  }
 },
 "nbformat": 4,
 "nbformat_minor": 2
}
